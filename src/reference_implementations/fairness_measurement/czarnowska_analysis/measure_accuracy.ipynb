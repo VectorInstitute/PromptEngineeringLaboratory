{
 "cells": [
  {
   "cell_type": "code",
   "execution_count": 19,
   "metadata": {},
   "outputs": [
    {
     "name": "stdout",
     "output_type": "stream",
     "text": [
      "Total Accuracy: 0.5425997748029526\n",
      "Negative Labels: 10675\n",
      "Neutral Labels: 10689\n",
      "Positive Labels: 10608\n",
      "Total Examples: 31972\n",
      "31972\n"
     ]
    }
   ],
   "source": [
    "import pandas as pd\n",
    "import numpy as np\n",
    "\n",
    "PREDICTIONS_PATH = (\n",
    "    \"/Users/david/Desktop/VectorRepositories/PromptEngineeringLaboratory/src/reference_implementations/\"\n",
    "    \"fairness_measurement/resources/predictions/llama_2_7b_predictions_r1.tsv\"\n",
    ")\n",
    "\n",
    "predictions_df = pd.read_csv(PREDICTIONS_PATH, sep = \"\\t\")\n",
    "total_preds = len(predictions_df)\n",
    "correct_preds = len(np.where(predictions_df[\"y_true\"] == predictions_df[\"y_pred\"])[0])\n",
    "print(f\"Total Accuracy: {correct_preds/total_preds}\")\n",
    "negative_labels = len(np.where(predictions_df[\"y_true\"] == 0)[0])\n",
    "neutral_labels = len(np.where(predictions_df[\"y_true\"] == 1)[0])\n",
    "positive_labels = len(np.where(predictions_df[\"y_true\"] == 2)[0])\n",
    "print(f\"Negative Labels: {negative_labels}\")\n",
    "print(f\"Neutral Labels: {neutral_labels}\")\n",
    "print(f\"Positive Labels: {positive_labels}\")\n",
    "print(f\"Total Examples: {total_preds}\")"
   ]
  },
  {
   "cell_type": "code",
   "execution_count": null,
   "metadata": {},
   "outputs": [],
   "source": []
  }
 ],
 "metadata": {
  "kernelspec": {
   "display_name": "prompt_engineering",
   "language": "python",
   "name": "python3"
  },
  "language_info": {
   "codemirror_mode": {
    "name": "ipython",
    "version": 3
   },
   "file_extension": ".py",
   "mimetype": "text/x-python",
   "name": "python",
   "nbconvert_exporter": "python",
   "pygments_lexer": "ipython3",
   "version": "3.9.15"
  }
 },
 "nbformat": 4,
 "nbformat_minor": 2
}
