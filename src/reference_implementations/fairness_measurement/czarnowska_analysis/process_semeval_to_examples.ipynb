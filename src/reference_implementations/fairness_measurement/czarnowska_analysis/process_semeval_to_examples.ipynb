{
 "cells": [
  {
   "cell_type": "code",
   "execution_count": 3,
   "metadata": {},
   "outputs": [],
   "source": [
    "import pandas as pd\n",
    "import re\n",
    "\n",
    "DATASET_PATH = \"/Users/david/Desktop/2018-Valence-oc-En-train.txt\"\n",
    "SAMPLE_WRITE_PATH = (\n",
    "    \"/Users/david/Desktop/VectorRepositories/PromptEngineeringLaboratory/\"\n",
    "    \"src/reference_implementations/fairness_measurement/czarnowska_analysis/resources/processed_semeval.tsv\"\n",
    ")\n",
    "\n",
    "N_SAMPLES = 500\n",
    "\n",
    "semeval_df = pd.read_csv(DATASET_PATH, sep=\"\\t\")\n",
    "sampled_df = semeval_df.sample(N_SAMPLES)\n",
    "\n",
    "tweets = sampled_df[\"Tweet\"].tolist()\n",
    "valences = sampled_df[\"Intensity Class\"].tolist()\n",
    "valence_map = {\n",
    "    \"0\": \"Neutral\",\n",
    "    \"-1\": \"Neutral\",\n",
    "    \"-2\": \"Negative\",\n",
    "    \"-3\": \"Negative\",\n",
    "    \"1\": \"Neutral\",\n",
    "    \"2\": \"Positive\",\n",
    "    \"3\": \"Positive\",\n",
    "\n",
    "}"
   ]
  },
  {
   "cell_type": "code",
   "execution_count": 4,
   "metadata": {},
   "outputs": [],
   "source": [
    "with open(SAMPLE_WRITE_PATH, \"w\") as f:\n",
    "    f.write(f\"Text\\tValence\\n\")\n",
    "    for tweet, valence in zip(tweets, valences):\n",
    "        mapped_valence = valence.strip()\n",
    "        mapped_valence = re.sub(r\":.*\", \"\", mapped_valence)\n",
    "        mapped_valence = valence_map[mapped_valence]\n",
    "        f.write(f\"{tweet}\\t{mapped_valence}\\n\")"
   ]
  },
  {
   "cell_type": "code",
   "execution_count": null,
   "metadata": {},
   "outputs": [],
   "source": []
  }
 ],
 "metadata": {
  "kernelspec": {
   "display_name": "prompt_engineering",
   "language": "python",
   "name": "python3"
  },
  "language_info": {
   "codemirror_mode": {
    "name": "ipython",
    "version": 3
   },
   "file_extension": ".py",
   "mimetype": "text/x-python",
   "name": "python",
   "nbconvert_exporter": "python",
   "pygments_lexer": "ipython3",
   "version": "3.9.15"
  }
 },
 "nbformat": 4,
 "nbformat_minor": 2
}
