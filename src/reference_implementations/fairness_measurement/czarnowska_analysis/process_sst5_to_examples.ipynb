{
 "cells": [
  {
   "cell_type": "code",
   "execution_count": 1,
   "metadata": {},
   "outputs": [
    {
     "name": "stderr",
     "output_type": "stream",
     "text": [
      "/usr/local/anaconda3/envs/prompt_engineering/lib/python3.9/site-packages/huggingface_hub/repocard.py:105: UserWarning: Repo card metadata block was not found. Setting CardData to empty.\n",
      "  warnings.warn(\"Repo card metadata block was not found. Setting CardData to empty.\")\n"
     ]
    }
   ],
   "source": [
    "from datasets import load_dataset\n",
    "import random\n",
    "\n",
    "dataset = load_dataset(\"SetFit/sst5\")\n",
    "SAMPLE_WRITE_PATH = (\n",
    "    \"/Users/david/Desktop/VectorRepositories/PromptEngineeringLaboratory/\"\n",
    "    \"src/reference_implementations/fairness_measurement/czarnowska_analysis/resources/processed_sst5.tsv\"\n",
    ")\n",
    "\n",
    "N_SAMPLES = 500\n",
    "train_dataset = dataset['train']\n",
    "indices_to_subsample = list(range(len(train_dataset)))\n",
    "sample_indices = random.sample(indices_to_subsample, k=N_SAMPLES)\n",
    "sentiment_map = {\n",
    "    \"0\": \"Negative\",\n",
    "    \"1\": \"Negative\",\n",
    "    \"2\": \"Neutral\",\n",
    "    \"3\": \"Positive\",\n",
    "    \"4\": \"Positive\",\n",
    "}\n",
    "\n",
    "with open(SAMPLE_WRITE_PATH, \"w\") as f:\n",
    "    f.write(f\"Text\\tValence\\n\")\n",
    "    for i in range(N_SAMPLES):\n",
    "        sample_index = sample_indices[i]\n",
    "        sample = train_dataset[sample_index]\n",
    "        text = sample['text']\n",
    "        label = sample['label']\n",
    "        mapped_label = sentiment_map[str(label)]\n",
    "        f.write(f\"{text}\\t{mapped_label}\\n\")"
   ]
  },
  {
   "cell_type": "code",
   "execution_count": null,
   "metadata": {},
   "outputs": [],
   "source": []
  }
 ],
 "metadata": {
  "kernelspec": {
   "display_name": "prompt_engineering",
   "language": "python",
   "name": "python3"
  },
  "language_info": {
   "codemirror_mode": {
    "name": "ipython",
    "version": 3
   },
   "file_extension": ".py",
   "mimetype": "text/x-python",
   "name": "python",
   "nbconvert_exporter": "python",
   "pygments_lexer": "ipython3",
   "version": "3.9.15"
  }
 },
 "nbformat": 4,
 "nbformat_minor": 2
}
