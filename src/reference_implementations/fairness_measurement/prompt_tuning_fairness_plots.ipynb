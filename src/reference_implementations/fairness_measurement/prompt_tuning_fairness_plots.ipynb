{
 "cells": [
  {
   "cell_type": "markdown",
   "metadata": {},
   "source": [
    "# Bias Visualization"
   ]
  },
  {
   "cell_type": "markdown",
   "metadata": {},
   "source": [
    "### Dependencies\n",
    "Note that we use the scikit-learn confusion matrix utility to help calculate some of the fairness metrics. We generate the visualizations using plotly Express."
   ]
  },
  {
   "cell_type": "code",
   "execution_count": 1,
   "metadata": {},
   "outputs": [],
   "source": [
    "%%capture\n",
    "%pip install kaleido numpy pandas plotly scikit-learn tqdm ipywidgets"
   ]
  },
  {
   "cell_type": "code",
   "execution_count": 2,
   "metadata": {},
   "outputs": [],
   "source": [
    "import os\n",
    "from math import sqrt\n",
    "from typing import Any, Dict, List\n",
    "\n",
    "import ipywidgets as widgets\n",
    "import numpy as np\n",
    "import pandas as pd\n",
    "import plotly.express as px\n",
    "from IPython.display import clear_output, display\n",
    "from sklearn.metrics import confusion_matrix as ConfusionMatrix\n",
    "from tqdm.auto import tqdm"
   ]
  },
  {
   "cell_type": "markdown",
   "metadata": {},
   "source": [
    "### Global Constants"
   ]
  },
  {
   "cell_type": "markdown",
   "metadata": {},
   "source": [
    "This notebook will visualize how each of the following variable affects the fairness towards a particular protected group."
   ]
  },
  {
   "cell_type": "code",
   "execution_count": 3,
   "metadata": {},
   "outputs": [],
   "source": [
    "INDEPENDENT_VARIABLES = [\"model\", \"dataset\", \"num_params\"]"
   ]
  },
  {
   "cell_type": "markdown",
   "metadata": {},
   "source": [
    "## Utilities"
   ]
  },
  {
   "cell_type": "markdown",
   "metadata": {},
   "source": [
    "### Plotting Utils"
   ]
  },
  {
   "cell_type": "code",
   "execution_count": 4,
   "metadata": {},
   "outputs": [],
   "source": [
    "def format_metric_name(metric_name: str) -> str:\n",
    "    \"\"\"\n",
    "    Prettify diagram texts by replacing\n",
    "    snake case with regular title case.\n",
    "    \"\"\"\n",
    "    output_words = []\n",
    "    for word in metric_name.split(\"_\"):\n",
    "        word = word.title() if word not in [\"FPR\", \"TPR\"] else word.upper()\n",
    "        output_words.append(word)\n",
    "\n",
    "    return \" \".join(output_words)\n",
    "\n",
    "\n",
    "# Modify the names of the models and the datasets for display purposes\n",
    "def modify_model_name(model_name: str) -> str:\n",
    "    model_name = model_name.replace(\"facebook/\", \"\")\n",
    "    model_name = model_name.replace(\"data/models/\", \"\")\n",
    "    model_name = model_name.replace(\"model-weights/\", \"\")\n",
    "    \n",
    "    if model_name.startswith(\"opt\"):\n",
    "        return model_name.replace(\"opt\", \"OPT\").upper()\n",
    "    elif model_name.startswith(\"roberta\"):\n",
    "        return model_name.replace(\"roberta\", \"RoBERTa\")\n",
    "    elif model_name == \"/llama/7B\":\n",
    "        return \"LLaMA-7B\"\n",
    "    elif model_name == \"/llama/13B\":\n",
    "        return \"LLaMA-13B\"\n",
    "    elif model_name == \"/Llama-2-7b\":\n",
    "        return \"Llama2-7B\"\n",
    "    elif model_name == \"/Llama-2-13b\":\n",
    "        return \"Llama2-13B\"\n",
    "    else:\n",
    "        return model_name\n",
    "\n",
    "\n",
    "def modify_dataset_name(dataset_name: str) -> str:\n",
    "    dataset_name = dataset_name.replace(\"jacobthebanana/\", \"\")\n",
    "    if \"sst5_mapped_grouped\" in dataset_name:\n",
    "        return \"SST5 Grouped\"\n",
    "    elif \"sst5-mapped-extreme\" in dataset_name:\n",
    "        return \"SST5 Extreme\"\n",
    "    elif \"semeval-2018-grouped\" in dataset_name:\n",
    "        return \"SemEval\"\n",
    "    elif \"data/processed/semeval_3\" in dataset_name:\n",
    "        return \"SemEval\"\n",
    "    elif \"data/processed/semeval2018-mapped-grouped\" in dataset_name:\n",
    "        return \"SemEval\"\n",
    "    return dataset_name"
   ]
  },
  {
   "cell_type": "markdown",
   "metadata": {},
   "source": [
    "## Getting Predictions Ready"
   ]
  },
  {
   "cell_type": "markdown",
   "metadata": {},
   "source": [
    "### Load Prediction Files\n",
    "Load all prediction `tsv` files from a given folder into a dataframe."
   ]
  },
  {
   "cell_type": "code",
   "execution_count": 5,
   "metadata": {},
   "outputs": [
    {
     "data": {
      "application/vnd.jupyter.widget-view+json": {
       "model_id": "8e539f1b8dd54040902271bc85d89085",
       "version_major": 2,
       "version_minor": 0
      },
      "text/plain": [
       "  0%|                                                     | 0/2 [00:00<?, ?it/s]"
      ]
     },
     "metadata": {},
     "output_type": "display_data"
    }
   ],
   "source": [
    "prediction_folder: str = \"resources/semeval_paper_preds/\"\n",
    "prediction_files: List[str] = os.listdir(prediction_folder)\n",
    "prediction_tsv_paths: List[str] = [\n",
    "    os.path.join(prediction_folder, prediction_file)\n",
    "    for prediction_file in prediction_files\n",
    "    if prediction_file.endswith(\".tsv\") and \"placeholder\" not in prediction_file\n",
    "]\n",
    "\n",
    "output_folder: str = \"stats\"\n",
    "output_table = pd.DataFrame()\n",
    "\n",
    "for prediction_tsv_path in tqdm(prediction_tsv_paths, ncols=80):\n",
    "    prediction_tsv_filename = os.path.basename(prediction_tsv_path)\n",
    "    dataframe = pd.read_csv(prediction_tsv_path, delimiter=\"\\t\")\n",
    "    del dataframe[\"text\"]\n",
    "    # Filter out the LLaMA-2-Chat Predictions\n",
    "    dataframe = dataframe.loc[dataframe['model'] != \"/model-weights/Llama-2-7b-chat\"]\n",
    "    \n",
    "\n",
    "    if output_table is None:\n",
    "        output_table = dataframe\n",
    "    else:\n",
    "        assert isinstance(output_table, pd.DataFrame)\n",
    "        output_table = pd.concat([output_table, dataframe])"
   ]
  },
  {
   "cell_type": "markdown",
   "metadata": {},
   "source": [
    "## Calculate Statistics\n",
    "Since there can be multiple examples for each protected group, we apply the `groupby` method to compute aggregated statistics across all the examples of each protected group.\n",
    "\n",
    "Refer to the following function for details on how we implemented the metrics."
   ]
  },
  {
   "cell_type": "markdown",
   "metadata": {},
   "source": [
    "### Function for aggregating statistics\n"
   ]
  },
  {
   "cell_type": "markdown",
   "metadata": {},
   "source": [
    "Below you will find a function that takes in a dataframe. This dataframe is will be automatically generated using the `pd.DataFrame.groupby`. The content of this dataframe is a subset of one particular prediction tsv for a particular protected group (e.g., the \"young\" group for the protected class \"age\"). \n",
    "\n",
    "The function will return a `pd.Series` (like a dictionary) mapping the following fairness metrics to their floating point values:\n",
    "- Accuracy\n",
    "- TPR(Positive)\n",
    "- TPR(Neutral)\n",
    "- TPR(Negative)\n",
    "- FPR(Positive)\n",
    "- FPR(Neutral)\n",
    "- FPR(Negative)\n",
    "\n",
    "Also refer to https://stackoverflow.com/a/50671617 for details on how the TPR and FPR values are computed."
   ]
  },
  {
   "cell_type": "code",
   "execution_count": 6,
   "metadata": {},
   "outputs": [],
   "source": [
    "top_n_filter = 5\n",
    "unique_runs_with_accuracy = output_table[[\"model\", \"run_id\", \"dataset\", \"threshold_accuracy\"]].drop_duplicates()\n",
    "unique_runs_with_accuracy = unique_runs_with_accuracy.sort_values(\n",
    "    [\"model\", \"dataset\", \"threshold_accuracy\"], ascending=False\n",
    ")\n",
    "best_runs_by_model_dataset = unique_runs_with_accuracy.groupby([\"model\", \"dataset\"]).head(top_n_filter).reset_index()\n",
    "run_ids_to_keep = best_runs_by_model_dataset[\"run_id\"].tolist()\n",
    "output_table = output_table.loc[output_table[\"run_id\"].isin(run_ids_to_keep)]"
   ]
  },
  {
   "cell_type": "code",
   "execution_count": 7,
   "metadata": {},
   "outputs": [],
   "source": [
    "def get_stats(dataframe: pd.DataFrame) -> pd.Series:\n",
    "    \"\"\"\n",
    "    Input: dataframe representing all predictions for a particular\n",
    "    protected group in a particular run.\n",
    "    \"\"\"\n",
    "    output: Dict[str, float] = {}\n",
    "\n",
    "    num_examples = len(dataframe)\n",
    "    num_correct = np.sum(dataframe[\"y_pred\"] == dataframe[\"y_true\"])\n",
    "\n",
    "    output[\"accuracy\"] = num_correct / num_examples\n",
    "\n",
    "    # See https://stackoverflow.com/a/50671617\n",
    "    confusion_matrix = ConfusionMatrix(dataframe[\"y_true\"], dataframe[\"y_pred\"])\n",
    "\n",
    "    FP = confusion_matrix.sum(axis=0) - np.diag(confusion_matrix)\n",
    "    FN = confusion_matrix.sum(axis=1) - np.diag(confusion_matrix)\n",
    "    TP = np.diag(confusion_matrix)\n",
    "    TN = confusion_matrix.sum() - (FP + FN + TP)\n",
    "\n",
    "    FPR = FP / (FP + TN)\n",
    "    FNR = FN / (TP + FN)\n",
    "    TPR = 1 - FNR\n",
    "\n",
    "    for label_index, label in enumerate([\"negative\", \"neutral\", \"positive\"]):\n",
    "        output[label + \"_FPR\"] = FPR[label_index]\n",
    "        output[label + \"_TPR\"] = TPR[label_index]\n",
    "\n",
    "    return pd.Series(output)"
   ]
  },
  {
   "cell_type": "code",
   "execution_count": 8,
   "metadata": {},
   "outputs": [
    {
     "data": {
      "text/html": [
       "<div>\n",
       "<style scoped>\n",
       "    .dataframe tbody tr th:only-of-type {\n",
       "        vertical-align: middle;\n",
       "    }\n",
       "\n",
       "    .dataframe tbody tr th {\n",
       "        vertical-align: top;\n",
       "    }\n",
       "\n",
       "    .dataframe thead th {\n",
       "        text-align: right;\n",
       "    }\n",
       "</style>\n",
       "<table border=\"1\" class=\"dataframe\">\n",
       "  <thead>\n",
       "    <tr style=\"text-align: right;\">\n",
       "      <th></th>\n",
       "      <th></th>\n",
       "      <th></th>\n",
       "      <th>accuracy</th>\n",
       "      <th>negative_FPR</th>\n",
       "      <th>negative_TPR</th>\n",
       "      <th>neutral_FPR</th>\n",
       "      <th>neutral_TPR</th>\n",
       "      <th>positive_FPR</th>\n",
       "      <th>positive_TPR</th>\n",
       "    </tr>\n",
       "    <tr>\n",
       "      <th>model</th>\n",
       "      <th>dataset</th>\n",
       "      <th>num_params</th>\n",
       "      <th></th>\n",
       "      <th></th>\n",
       "      <th></th>\n",
       "      <th></th>\n",
       "      <th></th>\n",
       "      <th></th>\n",
       "      <th></th>\n",
       "    </tr>\n",
       "  </thead>\n",
       "  <tbody>\n",
       "    <tr>\n",
       "      <th>/data/models/llama/13B</th>\n",
       "      <th>data/processed/semeval_3</th>\n",
       "      <th>8</th>\n",
       "      <td>0.779063</td>\n",
       "      <td>0.124600</td>\n",
       "      <td>0.936150</td>\n",
       "      <td>0.132275</td>\n",
       "      <td>0.623987</td>\n",
       "      <td>0.074658</td>\n",
       "      <td>0.777244</td>\n",
       "    </tr>\n",
       "    <tr>\n",
       "      <th>/data/models/llama/7B</th>\n",
       "      <th>data/processed/semeval_3</th>\n",
       "      <th>8</th>\n",
       "      <td>0.762317</td>\n",
       "      <td>0.117810</td>\n",
       "      <td>0.914567</td>\n",
       "      <td>0.118414</td>\n",
       "      <td>0.557601</td>\n",
       "      <td>0.120296</td>\n",
       "      <td>0.815385</td>\n",
       "    </tr>\n",
       "    <tr>\n",
       "      <th rowspan=\"2\" valign=\"top\">/model-weights/Llama-2-7b</th>\n",
       "      <th>jacobthebanana/sst5-mapped-extreme</th>\n",
       "      <th>8</th>\n",
       "      <td>0.427893</td>\n",
       "      <td>0.322656</td>\n",
       "      <td>0.513105</td>\n",
       "      <td>0.205197</td>\n",
       "      <td>0.283750</td>\n",
       "      <td>0.330116</td>\n",
       "      <td>0.487387</td>\n",
       "    </tr>\n",
       "    <tr>\n",
       "      <th>jacobthebanana/sst5_mapped_grouped</th>\n",
       "      <th>16</th>\n",
       "      <td>0.498511</td>\n",
       "      <td>0.513772</td>\n",
       "      <td>0.902707</td>\n",
       "      <td>0.028267</td>\n",
       "      <td>0.053513</td>\n",
       "      <td>0.210176</td>\n",
       "      <td>0.540158</td>\n",
       "    </tr>\n",
       "    <tr>\n",
       "      <th>facebook/opt-1.3b</th>\n",
       "      <th>data/processed/semeval_3</th>\n",
       "      <th>8</th>\n",
       "      <td>0.811752</td>\n",
       "      <td>0.167149</td>\n",
       "      <td>0.984591</td>\n",
       "      <td>0.072267</td>\n",
       "      <td>0.584436</td>\n",
       "      <td>0.043564</td>\n",
       "      <td>0.869014</td>\n",
       "    </tr>\n",
       "    <tr>\n",
       "      <th>facebook/opt-125m</th>\n",
       "      <th>data/processed/semeval_3</th>\n",
       "      <th>8</th>\n",
       "      <td>0.739643</td>\n",
       "      <td>0.202690</td>\n",
       "      <td>0.993626</td>\n",
       "      <td>0.170897</td>\n",
       "      <td>0.587004</td>\n",
       "      <td>0.018544</td>\n",
       "      <td>0.636454</td>\n",
       "    </tr>\n",
       "    <tr>\n",
       "      <th>facebook/opt-13b</th>\n",
       "      <th>data/processed/semeval_3</th>\n",
       "      <th>8</th>\n",
       "      <td>0.819740</td>\n",
       "      <td>0.087385</td>\n",
       "      <td>0.962727</td>\n",
       "      <td>0.161046</td>\n",
       "      <td>0.786763</td>\n",
       "      <td>0.023049</td>\n",
       "      <td>0.706959</td>\n",
       "    </tr>\n",
       "    <tr>\n",
       "      <th>facebook/opt-2.7b</th>\n",
       "      <th>data/processed/semeval_3</th>\n",
       "      <th>8</th>\n",
       "      <td>0.822908</td>\n",
       "      <td>0.076666</td>\n",
       "      <td>0.981121</td>\n",
       "      <td>0.177396</td>\n",
       "      <td>0.824148</td>\n",
       "      <td>0.012832</td>\n",
       "      <td>0.659155</td>\n",
       "    </tr>\n",
       "    <tr>\n",
       "      <th>facebook/opt-350m</th>\n",
       "      <th>data/processed/semeval_3</th>\n",
       "      <th>8</th>\n",
       "      <td>0.801489</td>\n",
       "      <td>0.115998</td>\n",
       "      <td>0.995321</td>\n",
       "      <td>0.144206</td>\n",
       "      <td>0.698837</td>\n",
       "      <td>0.038496</td>\n",
       "      <td>0.708451</td>\n",
       "    </tr>\n",
       "    <tr>\n",
       "      <th>facebook/opt-6.7b</th>\n",
       "      <th>data/processed/semeval_3</th>\n",
       "      <th>8</th>\n",
       "      <td>0.686677</td>\n",
       "      <td>0.198166</td>\n",
       "      <td>0.868173</td>\n",
       "      <td>0.222808</td>\n",
       "      <td>0.566065</td>\n",
       "      <td>0.050603</td>\n",
       "      <td>0.624855</td>\n",
       "    </tr>\n",
       "  </tbody>\n",
       "</table>\n",
       "</div>"
      ],
      "text/plain": [
       "                                                                         accuracy  \\\n",
       "model                     dataset                            num_params             \n",
       "/data/models/llama/13B    data/processed/semeval_3           8           0.779063   \n",
       "/data/models/llama/7B     data/processed/semeval_3           8           0.762317   \n",
       "/model-weights/Llama-2-7b jacobthebanana/sst5-mapped-extreme 8           0.427893   \n",
       "                          jacobthebanana/sst5_mapped_grouped 16          0.498511   \n",
       "facebook/opt-1.3b         data/processed/semeval_3           8           0.811752   \n",
       "facebook/opt-125m         data/processed/semeval_3           8           0.739643   \n",
       "facebook/opt-13b          data/processed/semeval_3           8           0.819740   \n",
       "facebook/opt-2.7b         data/processed/semeval_3           8           0.822908   \n",
       "facebook/opt-350m         data/processed/semeval_3           8           0.801489   \n",
       "facebook/opt-6.7b         data/processed/semeval_3           8           0.686677   \n",
       "\n",
       "                                                                         negative_FPR  \\\n",
       "model                     dataset                            num_params                 \n",
       "/data/models/llama/13B    data/processed/semeval_3           8               0.124600   \n",
       "/data/models/llama/7B     data/processed/semeval_3           8               0.117810   \n",
       "/model-weights/Llama-2-7b jacobthebanana/sst5-mapped-extreme 8               0.322656   \n",
       "                          jacobthebanana/sst5_mapped_grouped 16              0.513772   \n",
       "facebook/opt-1.3b         data/processed/semeval_3           8               0.167149   \n",
       "facebook/opt-125m         data/processed/semeval_3           8               0.202690   \n",
       "facebook/opt-13b          data/processed/semeval_3           8               0.087385   \n",
       "facebook/opt-2.7b         data/processed/semeval_3           8               0.076666   \n",
       "facebook/opt-350m         data/processed/semeval_3           8               0.115998   \n",
       "facebook/opt-6.7b         data/processed/semeval_3           8               0.198166   \n",
       "\n",
       "                                                                         negative_TPR  \\\n",
       "model                     dataset                            num_params                 \n",
       "/data/models/llama/13B    data/processed/semeval_3           8               0.936150   \n",
       "/data/models/llama/7B     data/processed/semeval_3           8               0.914567   \n",
       "/model-weights/Llama-2-7b jacobthebanana/sst5-mapped-extreme 8               0.513105   \n",
       "                          jacobthebanana/sst5_mapped_grouped 16              0.902707   \n",
       "facebook/opt-1.3b         data/processed/semeval_3           8               0.984591   \n",
       "facebook/opt-125m         data/processed/semeval_3           8               0.993626   \n",
       "facebook/opt-13b          data/processed/semeval_3           8               0.962727   \n",
       "facebook/opt-2.7b         data/processed/semeval_3           8               0.981121   \n",
       "facebook/opt-350m         data/processed/semeval_3           8               0.995321   \n",
       "facebook/opt-6.7b         data/processed/semeval_3           8               0.868173   \n",
       "\n",
       "                                                                         neutral_FPR  \\\n",
       "model                     dataset                            num_params                \n",
       "/data/models/llama/13B    data/processed/semeval_3           8              0.132275   \n",
       "/data/models/llama/7B     data/processed/semeval_3           8              0.118414   \n",
       "/model-weights/Llama-2-7b jacobthebanana/sst5-mapped-extreme 8              0.205197   \n",
       "                          jacobthebanana/sst5_mapped_grouped 16             0.028267   \n",
       "facebook/opt-1.3b         data/processed/semeval_3           8              0.072267   \n",
       "facebook/opt-125m         data/processed/semeval_3           8              0.170897   \n",
       "facebook/opt-13b          data/processed/semeval_3           8              0.161046   \n",
       "facebook/opt-2.7b         data/processed/semeval_3           8              0.177396   \n",
       "facebook/opt-350m         data/processed/semeval_3           8              0.144206   \n",
       "facebook/opt-6.7b         data/processed/semeval_3           8              0.222808   \n",
       "\n",
       "                                                                         neutral_TPR  \\\n",
       "model                     dataset                            num_params                \n",
       "/data/models/llama/13B    data/processed/semeval_3           8              0.623987   \n",
       "/data/models/llama/7B     data/processed/semeval_3           8              0.557601   \n",
       "/model-weights/Llama-2-7b jacobthebanana/sst5-mapped-extreme 8              0.283750   \n",
       "                          jacobthebanana/sst5_mapped_grouped 16             0.053513   \n",
       "facebook/opt-1.3b         data/processed/semeval_3           8              0.584436   \n",
       "facebook/opt-125m         data/processed/semeval_3           8              0.587004   \n",
       "facebook/opt-13b          data/processed/semeval_3           8              0.786763   \n",
       "facebook/opt-2.7b         data/processed/semeval_3           8              0.824148   \n",
       "facebook/opt-350m         data/processed/semeval_3           8              0.698837   \n",
       "facebook/opt-6.7b         data/processed/semeval_3           8              0.566065   \n",
       "\n",
       "                                                                         positive_FPR  \\\n",
       "model                     dataset                            num_params                 \n",
       "/data/models/llama/13B    data/processed/semeval_3           8               0.074658   \n",
       "/data/models/llama/7B     data/processed/semeval_3           8               0.120296   \n",
       "/model-weights/Llama-2-7b jacobthebanana/sst5-mapped-extreme 8               0.330116   \n",
       "                          jacobthebanana/sst5_mapped_grouped 16              0.210176   \n",
       "facebook/opt-1.3b         data/processed/semeval_3           8               0.043564   \n",
       "facebook/opt-125m         data/processed/semeval_3           8               0.018544   \n",
       "facebook/opt-13b          data/processed/semeval_3           8               0.023049   \n",
       "facebook/opt-2.7b         data/processed/semeval_3           8               0.012832   \n",
       "facebook/opt-350m         data/processed/semeval_3           8               0.038496   \n",
       "facebook/opt-6.7b         data/processed/semeval_3           8               0.050603   \n",
       "\n",
       "                                                                         positive_TPR  \n",
       "model                     dataset                            num_params                \n",
       "/data/models/llama/13B    data/processed/semeval_3           8               0.777244  \n",
       "/data/models/llama/7B     data/processed/semeval_3           8               0.815385  \n",
       "/model-weights/Llama-2-7b jacobthebanana/sst5-mapped-extreme 8               0.487387  \n",
       "                          jacobthebanana/sst5_mapped_grouped 16              0.540158  \n",
       "facebook/opt-1.3b         data/processed/semeval_3           8               0.869014  \n",
       "facebook/opt-125m         data/processed/semeval_3           8               0.636454  \n",
       "facebook/opt-13b          data/processed/semeval_3           8               0.706959  \n",
       "facebook/opt-2.7b         data/processed/semeval_3           8               0.659155  \n",
       "facebook/opt-350m         data/processed/semeval_3           8               0.708451  \n",
       "facebook/opt-6.7b         data/processed/semeval_3           8               0.624855  "
      ]
     },
     "execution_count": 8,
     "metadata": {},
     "output_type": "execute_result"
    }
   ],
   "source": [
    "output_table.groupby([*INDEPENDENT_VARIABLES]).apply(get_stats)"
   ]
  },
  {
   "cell_type": "markdown",
   "metadata": {},
   "source": [
    "### Calculating Per-Group Statistics"
   ]
  },
  {
   "cell_type": "code",
   "execution_count": 9,
   "metadata": {},
   "outputs": [],
   "source": [
    "# output_table\n",
    "analyzed_dataframe = output_table.groupby([*INDEPENDENT_VARIABLES, \"run_id\", \"category\", \"group\"]).apply(get_stats)\n",
    "analyzed_dataframe.query('category == \"grouped_race\"')[[\"positive_TPR\"]]"
   ]
  },
  {
   "cell_type": "code",
   "execution_count": null,
   "metadata": {},
   "outputs": [],
   "source": [
    "output_table = analyzed_dataframe.reset_index()\n",
    "os.makedirs(output_folder, exist_ok=True)\n",
    "output_table.to_csv(os.path.join(output_folder, \"aggregated.csv\"))"
   ]
  },
  {
   "cell_type": "markdown",
   "metadata": {},
   "source": [
    "## Calculating Statistics"
   ]
  },
  {
   "cell_type": "markdown",
   "metadata": {},
   "source": [
    "Before we begin, note that some of the protected classes include a large number of groups. You may filter on the protected groups to include in each category. If a category isn't in this dictionary, the visualizations will include all the groups under that category by default."
   ]
  },
  {
   "cell_type": "code",
   "execution_count": null,
   "metadata": {},
   "outputs": [
    {
     "name": "stdout",
     "output_type": "stream",
     "text": [
      "Groups selected: young, adult, old, 2q, 3q, 5q, 6q, 1q, 4q, without, cognitive, physical, hearing, sight, chronic_illness, mobility, mental_health, trans, non-binary, many-genders, no-gender, female, cis, male, aab, african_american, american_indian, white, hispanic, pacific_islander, asian, christianity, islam, judaism, bisexual, asexual, heterosexual, homosexual, other, female, male\n"
     ]
    }
   ],
   "source": [
    "SELECTED_GROUPS = {\n",
    "    \"grouped_religion\": [\"christianity\", \"islam\", \"judaism\"],\n",
    "    \"grouped_disability\": [\n",
    "        \"without\",\n",
    "        \"cognitive\",\n",
    "        \"physical\",\n",
    "        \"hearing\",\n",
    "        \"sight\",\n",
    "        \"chronic_illness\",\n",
    "        \"mobility\",\n",
    "        \"mental_health\",\n",
    "    ],\n",
    "}\n",
    "\n",
    "groups_to_include = []\n",
    "for category in output_table[\"category\"].unique():\n",
    "    groups = SELECTED_GROUPS.get(category)\n",
    "    if groups is None:\n",
    "        groups = list(set(output_table.query(f'category == \"{category}\"')[\"group\"]))\n",
    "\n",
    "    groups_to_include.extend(groups)\n",
    "\n",
    "print(\"Groups selected:\", \", \".join(groups_to_include))\n",
    "output_table = output_table.query(\"group == @groups_to_include\")"
   ]
  },
  {
   "cell_type": "markdown",
   "metadata": {},
   "source": [
    "### \"Gap\": How each group deviates from the category mean\n",
    "Below, we will calculate how far each group deviates from the mean of that category. For example, how far does the accuracy on examples mentioning the \"young\" group deviate from the mean of all examples of the \"age\" category?\n",
    "\n",
    "If there are more than one runs for each model, we would calculate gap metrics for each run separately. \n",
    "\n",
    "We use a for loop to add the following metrics of interest to our list:\n",
    "- Accuracy\n",
    "- False Positive Rates\n",
    "    - FPR(\"Negative\")\n",
    "    - FPR(\"Neutral\")\n",
    "    - FPR(\"Positive\")\n",
    "- True Positive Rates\n",
    "    - TPR(\"Negative\")\n",
    "    - TPR(\"Neutral\")\n",
    "    - TPR(\"Positive\")"
   ]
  },
  {
   "cell_type": "code",
   "execution_count": null,
   "metadata": {},
   "outputs": [
    {
     "name": "stdout",
     "output_type": "stream",
     "text": [
      "['accuracy_gap', 'negative_FPR_gap', 'negative_TPR_gap', 'neutral_FPR_gap', 'neutral_TPR_gap', 'positive_FPR_gap', 'positive_TPR_gap']\n"
     ]
    }
   ],
   "source": [
    "metrics = [\"accuracy\"]\n",
    "for label in [\"negative\", \"neutral\", \"positive\"]:\n",
    "    metrics.append(label + \"_FPR\")\n",
    "    metrics.append(label + \"_TPR\")\n",
    "\n",
    "gap_metrics = []\n",
    "for metric in metrics:\n",
    "    gap_metrics.append(f\"{metric}_gap\")\n",
    "\n",
    "print(gap_metrics)"
   ]
  },
  {
   "cell_type": "markdown",
   "metadata": {},
   "source": [
    "### Confidence Interval Calculations"
   ]
  },
  {
   "cell_type": "markdown",
   "metadata": {},
   "source": [
    "In the previous step, we've found the gaps for each (metric, category, group, model, run/seed). If we have more than one runs/seeds for each model, we can aggregate the results to find a confidence interval for each gap variable.\n",
    "\n",
    "To do so, we will aggregate the previous table (metric, category, group, model, run/seed) along the run/seed axis. The result will be a table with indices (metric, category, group, model)."
   ]
  },
  {
   "cell_type": "code",
   "execution_count": null,
   "metadata": {},
   "outputs": [],
   "source": [
    "# Create a (metric, group) placeholder table for storing the output values.\n",
    "# Unlike in the previous step, \"run_id\" isn't part of groupby,\n",
    "# and this axis will be squeezed in the result.\n",
    "stats_table = (\n",
    "    output_table[[*INDEPENDENT_VARIABLES, \"category\", \"group\", \"accuracy\"]]\n",
    "    .groupby([*INDEPENDENT_VARIABLES, \"category\", \"group\"])\n",
    "    .agg([\"mean\"])\n",
    ")"
   ]
  },
  {
   "cell_type": "code",
   "execution_count": null,
   "metadata": {},
   "outputs": [],
   "source": [
    "# Calculate gap for each metric and\n",
    "# save the results in a column named f\"{metrics}_gap\".\n",
    "for metric, gap_metric in zip(metrics, gap_metrics):\n",
    "    # Calculate mean for each metric, group, and run/seed.\n",
    "    group_by = [*INDEPENDENT_VARIABLES, \"category\", \"run_id\"]\n",
    "    grouped = output_table[[*INDEPENDENT_VARIABLES, \"category\", \"run_id\", metric]].groupby(group_by)\n",
    "    group_mean = grouped.transform(\"mean\")\n",
    "\n",
    "    # Broadcast the mean values across the table\n",
    "    # to find the gap for each entry.\n",
    "    normalized_values = output_table[metric] - group_mean[metric]\n",
    "    output_table[gap_metric] = normalized_values\n",
    "\n",
    "    # See https://stackoverflow.com/a/53522680\n",
    "    # Calculate mean and stdev for each (metric, category, group, model).\n",
    "    stats = (\n",
    "        output_table[[*INDEPENDENT_VARIABLES, \"category\", \"group\", gap_metric]]\n",
    "        .groupby([*INDEPENDENT_VARIABLES, \"category\", \"group\"])\n",
    "        .agg([\"mean\", \"count\", \"std\"])\n",
    "    )\n",
    "\n",
    "    mean_values = []\n",
    "    ci_width = []\n",
    "    lower_values = []\n",
    "    upper_values = []\n",
    "    hypothesis_selected = []\n",
    "    z_score = 1.96\n",
    "\n",
    "    # Calculate 95% Confidence interval for each\n",
    "    # (metric, category, group, model).\n",
    "    for index in stats.index:\n",
    "        mean, n, stdev = stats.loc[index]  # type: ignore\n",
    "        lower = mean - z_score * stdev / sqrt(n)\n",
    "        upper = mean + z_score * stdev / sqrt(n)\n",
    "\n",
    "        mean_values.append(mean)\n",
    "        ci_width.append(z_score * stdev / sqrt(n))\n",
    "        lower_values.append(lower)\n",
    "        upper_values.append(upper)\n",
    "\n",
    "        if lower > 0:\n",
    "            hypothesis_selected.append(1)\n",
    "        elif upper < 0:\n",
    "            hypothesis_selected.append(-1)\n",
    "        else:\n",
    "            hypothesis_selected.append(0)\n",
    "\n",
    "    stats_table[gap_metric] = mean_values\n",
    "    stats_table[gap_metric + \"_width\"] = ci_width\n",
    "    stats_table[gap_metric + \"_lower\"] = lower_values\n",
    "    stats_table[gap_metric + \"_upper\"] = upper_values\n",
    "\n",
    "stats_table = stats_table.reset_index()"
   ]
  },
  {
   "cell_type": "code",
   "execution_count": null,
   "metadata": {},
   "outputs": [],
   "source": [
    "stats_table[\"model\"] = stats_table[\"model\"].apply(modify_model_name)\n",
    "stats_table[\"dataset\"] = stats_table[\"dataset\"].apply(modify_dataset_name)"
   ]
  },
  {
   "cell_type": "markdown",
   "metadata": {},
   "source": [
    "## Plotting"
   ]
  },
  {
   "cell_type": "markdown",
   "metadata": {},
   "source": [
    "### Compare between Groups of each category \n",
    "E.g. all groups in the \"age\" category"
   ]
  },
  {
   "cell_type": "code",
   "execution_count": null,
   "metadata": {},
   "outputs": [],
   "source": [
    "datasets = [\"(all)\", *stats_table[\"dataset\"].unique()]\n",
    "models = [\"(all)\", *(stats_table[\"model\"].unique())]\n",
    "categories = stats_table[\"category\"].unique()"
   ]
  },
  {
   "cell_type": "markdown",
   "metadata": {},
   "source": [
    "##### Interactive Visualization Utilities"
   ]
  },
  {
   "cell_type": "code",
   "execution_count": null,
   "metadata": {},
   "outputs": [],
   "source": [
    "model_selector = widgets.Dropdown(options=models, value=models[0], description=\"Model:\")\n",
    "category_selector = widgets.Dropdown(options=categories, value=categories[0], description=\"Category:\")\n",
    "metric_selector = widgets.Dropdown(options=metrics, value=metrics[0], description=\"Metric:\")\n",
    "dataset_selector = widgets.Dropdown(options=datasets, value=datasets[0], description=\"Dataset:\")"
   ]
  },
  {
   "cell_type": "code",
   "execution_count": null,
   "metadata": {},
   "outputs": [],
   "source": [
    "def visualize_fn(button: Any) -> None:\n",
    "    \"\"\"\n",
    "    Function to be called when the button is pressed.\n",
    "    This function clears previous output and any widget\n",
    "    that has already been rendered. To add these widgets\n",
    "    back (including the button) the \"button\" parameter\n",
    "    needs to be supplied from the button action.\n",
    "    \"\"\"\n",
    "    clear_output()\n",
    "\n",
    "    display(model_selector)\n",
    "    display(category_selector)\n",
    "    display(metric_selector)\n",
    "    display(dataset_selector)\n",
    "    display(button)\n",
    "\n",
    "    model = model_selector.value\n",
    "    category: str = category_selector.value  # type: ignore\n",
    "    metric: str = metric_selector.value  # type: ignore\n",
    "    dataset: str = dataset_selector.value  # type: ignore\n",
    "\n",
    "    metric += \"_gap\"\n",
    "\n",
    "    if model == \"(all)\" and dataset == \"(all)\":\n",
    "        filtered_table = stats_table[(stats_table[\"category\"] == category)]\n",
    "    elif model == \"(all)\":\n",
    "        filtered_table = stats_table[(stats_table[\"category\"] == category) & (stats_table[\"dataset\"] == dataset)]\n",
    "    elif dataset == \"(all)\":\n",
    "        filtered_table = stats_table[(stats_table[\"category\"] == category) & (stats_table[\"model\"] == model)]\n",
    "    else:\n",
    "        filtered_table = stats_table[\n",
    "            (stats_table[\"category\"] == category)\n",
    "            & (stats_table[\"model\"] == model)\n",
    "            & (stats_table[\"dataset\"] == dataset)\n",
    "        ]\n",
    "\n",
    "    if len(filtered_table) == 0:\n",
    "        print(\"None of the runs in the table matched the selections.\")\n",
    "        return\n",
    "\n",
    "    # Removing the \"grouped\" from grouped_{category_name}\n",
    "    category_name = category.split(\"_\")[-1]\n",
    "    title = f\"Gap for {category_name.title()}<br>{dataset}\"\n",
    "\n",
    "    # Generate scatterplot with confidence interval.\n",
    "    fig = px.scatter(\n",
    "        filtered_table,\n",
    "        x=\"group\",\n",
    "        facet_col=\"group\",\n",
    "        y=metric,\n",
    "        color=\"model\",\n",
    "        error_y=metric + \"_width\",\n",
    "        labels={\n",
    "            \"group\": \"Protected Group\",\n",
    "            metric: format_metric_name(metric),\n",
    "            \"model\": \"LM\",\n",
    "        },\n",
    "        category_orders={\n",
    "            \"model\": [\"OPT-125M\", \"OPT-350M\", \"OPT-1.3B\", \"OPT-2.7B\", \"OPT-6.7B\", \"OPT-13B\", \"LLaMA-7B\", \"LLaMA-13B\"]\n",
    "        },\n",
    "        title=title,\n",
    "        height=900,\n",
    "        width=1200,\n",
    "    )\n",
    "\n",
    "    # Hide redundant x axis labels.\n",
    "    fig.update_xaxes(\n",
    "        matches=None, tickangle=-35, title_font_family=\"Helvetica\", tickfont_family=\"Helvetica\", tickfont_size=28\n",
    "    )\n",
    "    fig.update_yaxes(title_font_family=\"Helvetica\", tickfont_family=\"Helvetica\", title_font_size=36)\n",
    "    fig.for_each_xaxis(lambda x: x.update(title=\"\"))\n",
    "    fig.for_each_annotation(lambda a: a.update(text=\"\"))\n",
    "    fig.update_traces(\n",
    "        marker=dict(\n",
    "            size=14,\n",
    "        ),\n",
    "        error_y=dict(thickness=5),\n",
    "    )\n",
    "\n",
    "    fig = fig.update_layout(legend=dict(title_font_family=\"Helvetica\", font=dict(size=28)))\n",
    "\n",
    "    fig = fig.update_layout(\n",
    "        scattermode=\"group\",\n",
    "        font_color=\"black\",\n",
    "        title_font_family=\"Helvetica\",\n",
    "        font_size=24,\n",
    "        title_x=0.47,\n",
    "    )\n",
    "\n",
    "    plot_output_path = \"plot.png\"\n",
    "    fig.write_image(plot_output_path, scale=3)\n",
    "    with open(plot_output_path, \"rb\") as img_file:\n",
    "        image_widget = widgets.Image(value=img_file.read(), format=\"png\", width=700, height=1200)\n",
    "        display(image_widget)"
   ]
  },
  {
   "cell_type": "markdown",
   "metadata": {},
   "source": [
    "##### Interative Visualization"
   ]
  },
  {
   "cell_type": "code",
   "execution_count": null,
   "metadata": {},
   "outputs": [
    {
     "data": {
      "application/vnd.jupyter.widget-view+json": {
       "model_id": "41314972555c4a3090dc078f31d5b80f",
       "version_major": 2,
       "version_minor": 0
      },
      "text/plain": [
       "Dropdown(description='Model:', options=('(all)', 'LLaMA-13B', 'LLaMA-7B', 'Llama2-7B', 'OPT-1.3B', 'OPT-125M',…"
      ]
     },
     "metadata": {},
     "output_type": "display_data"
    },
    {
     "data": {
      "application/vnd.jupyter.widget-view+json": {
       "model_id": "7b44aa06d28742619424b2ad3f96ca6f",
       "version_major": 2,
       "version_minor": 0
      },
      "text/plain": [
       "Dropdown(description='Category:', index=6, options=('grouped_age', 'grouped_country_by_gdp_ppp_quantile', 'gro…"
      ]
     },
     "metadata": {},
     "output_type": "display_data"
    },
    {
     "data": {
      "application/vnd.jupyter.widget-view+json": {
       "model_id": "e865e8e2d41a4719a9c80300be733883",
       "version_major": 2,
       "version_minor": 0
      },
      "text/plain": [
       "Dropdown(description='Metric:', index=1, options=('accuracy', 'negative_FPR', 'negative_TPR', 'neutral_FPR', '…"
      ]
     },
     "metadata": {},
     "output_type": "display_data"
    },
    {
     "data": {
      "application/vnd.jupyter.widget-view+json": {
       "model_id": "ce0ced8748c94452a1fba0b74f455bd0",
       "version_major": 2,
       "version_minor": 0
      },
      "text/plain": [
       "Dropdown(description='Dataset:', index=3, options=('(all)', 'SemEval', 'SST5 Extreme', 'SST5 Grouped'), value=…"
      ]
     },
     "metadata": {},
     "output_type": "display_data"
    },
    {
     "data": {
      "application/vnd.jupyter.widget-view+json": {
       "model_id": "b3b2f59264fe4bce86047b9493f6edac",
       "version_major": 2,
       "version_minor": 0
      },
      "text/plain": [
       "Button(description='Visualize', style=ButtonStyle())"
      ]
     },
     "metadata": {},
     "output_type": "display_data"
    },
    {
     "data": {
      "application/vnd.jupyter.widget-view+json": {
       "model_id": "b7932979fd684f289272a16f292eb3fe",
       "version_major": 2,
       "version_minor": 0
      },
      "text/plain": [
       "Image(value=b'\\x89PNG\\r\\n\\x1a\\n\\x00\\x00\\x00\\rIHDR\\x00\\x00\\x0e\\x10\\x00\\x00\\n\\x8c\\x08\\x06\\x00\\x00\\x00\\x83Q]\\x11\\…"
      ]
     },
     "metadata": {},
     "output_type": "display_data"
    }
   ],
   "source": [
    "button = widgets.Button(description=\"Visualize\")\n",
    "button.on_click(visualize_fn)\n",
    "visualize_fn(button)"
   ]
  },
  {
   "cell_type": "markdown",
   "metadata": {},
   "source": [
    "### Compare between models and datasets on the same protected group \n",
    "E.g. \"young\" people of the \"age\" category.\n"
   ]
  },
  {
   "cell_type": "markdown",
   "metadata": {},
   "source": [
    "##### Interative Visualization Utilities"
   ]
  },
  {
   "cell_type": "code",
   "execution_count": null,
   "metadata": {},
   "outputs": [],
   "source": [
    "unique_groups = stats_table[\"group\"].unique()\n",
    "model_selector_2 = widgets.Dropdown(options=models, value=models[0], description=\"Model:\")\n",
    "group_selector_2 = widgets.Dropdown(options=unique_groups, value=unique_groups[0], description=\"Group:\")\n",
    "metric_selector_2 = widgets.Dropdown(options=metrics, value=metrics[0], description=\"Metric:\")"
   ]
  },
  {
   "cell_type": "code",
   "execution_count": null,
   "metadata": {},
   "outputs": [],
   "source": [
    "def visualize_fn_2(button: Any) -> None:\n",
    "    clear_output()\n",
    "    display(model_selector_2)\n",
    "    display(group_selector_2)\n",
    "    display(metric_selector_2)\n",
    "    display(button)\n",
    "\n",
    "    model = model_selector_2.value\n",
    "    group: str = group_selector_2.value  # type: ignore\n",
    "    metric: str = metric_selector_2.value  # type: ignore\n",
    "\n",
    "    gap_metric = metric + \"_gap\"\n",
    "\n",
    "    if model == \"(all)\":\n",
    "        filtered_table = stats_table[(stats_table[\"dataset\"] != \"\")]\n",
    "    else:\n",
    "        filtered_table = stats_table[(stats_table[\"model\"] == model) & (stats_table[\"dataset\"] != \"\")]\n",
    "\n",
    "    group_filtered_table = filtered_table[filtered_table[\"group\"] == group]\n",
    "\n",
    "    if len(group_filtered_table) == 0:\n",
    "        print(\"None of the runs in the table matched the selections.\")\n",
    "        return\n",
    "\n",
    "    title = f\"Gap for {group.title()} \"\n",
    "\n",
    "    fig = px.scatter(\n",
    "        group_filtered_table,\n",
    "        x=\"dataset\",\n",
    "        facet_col=\"dataset\",\n",
    "        y=gap_metric,\n",
    "        color=\"model\",\n",
    "        error_y=gap_metric + \"_width\",\n",
    "        labels={\n",
    "            \"group\": \"Protected Group\",\n",
    "            gap_metric: format_metric_name(gap_metric),\n",
    "            \"model\": \"LM\",\n",
    "            **{dataset: format_metric_name(dataset) for dataset in filtered_table[\"dataset\"].unique()},\n",
    "        },\n",
    "        title=title,\n",
    "        height=700,\n",
    "        width=1200,\n",
    "    )\n",
    "\n",
    "    # Hide redundant x axis labels.\n",
    "    fig.update_xaxes(\n",
    "        matches=None, tickangle=-35, title_font_family=\"Helvetica\", tickfont_family=\"Helvetica\", tickfont_size=28\n",
    "    )\n",
    "    fig.update_yaxes(title_font_family=\"Helvetica\", tickfont_family=\"Helvetica\", title_font_size=36)\n",
    "    fig.for_each_xaxis(lambda x: x.update(title=\"\"))\n",
    "    fig.for_each_annotation(lambda a: a.update(text=\"\"))\n",
    "    fig.update_traces(\n",
    "        marker=dict(\n",
    "            size=14,\n",
    "        ),\n",
    "        error_y=dict(thickness=5),\n",
    "    )\n",
    "\n",
    "    fig = fig.update_layout(legend=dict(title_font_family=\"Helvetica\", font=dict(size=28)))\n",
    "\n",
    "    fig = fig.update_layout(\n",
    "        scattermode=\"group\",\n",
    "        font_color=\"black\",\n",
    "        title_font_family=\"Helvetica\",\n",
    "        font_size=24,\n",
    "        title_x=0.47,\n",
    "    )\n",
    "\n",
    "    plot_output_path = \"plot.png\"\n",
    "    fig.write_image(plot_output_path, scale=5)\n",
    "    with open(plot_output_path, \"rb\") as img_file:\n",
    "        image_widget = widgets.Image(value=img_file.read(), format=\"png\", width=700, height=1200)\n",
    "        display(image_widget)"
   ]
  },
  {
   "cell_type": "markdown",
   "metadata": {},
   "source": [
    "##### Interative Visualization"
   ]
  },
  {
   "cell_type": "code",
   "execution_count": null,
   "metadata": {},
   "outputs": [
    {
     "data": {
      "application/vnd.jupyter.widget-view+json": {
       "model_id": "292d9a4786324579a1f389c4b972c865",
       "version_major": 2,
       "version_minor": 0
      },
      "text/plain": [
       "Dropdown(description='Model:', options=('(all)', 'LLaMA-13B', 'LLaMA-7B', 'Llama2-7B', 'OPT-1.3B', 'OPT-125M',…"
      ]
     },
     "metadata": {},
     "output_type": "display_data"
    },
    {
     "data": {
      "application/vnd.jupyter.widget-view+json": {
       "model_id": "6d5710902c09496ab58fac3c9b26bf75",
       "version_major": 2,
       "version_minor": 0
      },
      "text/plain": [
       "Dropdown(description='Group:', options=('adult', 'old', 'young', '1q', '2q', '3q', '4q', '5q', '6q', 'chronic_…"
      ]
     },
     "metadata": {},
     "output_type": "display_data"
    },
    {
     "data": {
      "application/vnd.jupyter.widget-view+json": {
       "model_id": "cd5b0ca5723643158af2fca3d1fc9c91",
       "version_major": 2,
       "version_minor": 0
      },
      "text/plain": [
       "Dropdown(description='Metric:', options=('accuracy', 'negative_FPR', 'negative_TPR', 'neutral_FPR', 'neutral_T…"
      ]
     },
     "metadata": {},
     "output_type": "display_data"
    },
    {
     "data": {
      "application/vnd.jupyter.widget-view+json": {
       "model_id": "b9a0eafa9f274348854da1eb741869e9",
       "version_major": 2,
       "version_minor": 0
      },
      "text/plain": [
       "Button(description='Visualize', style=ButtonStyle())"
      ]
     },
     "metadata": {},
     "output_type": "display_data"
    },
    {
     "data": {
      "application/vnd.jupyter.widget-view+json": {
       "model_id": "e8712120931c443986cc254550c1e655",
       "version_major": 2,
       "version_minor": 0
      },
      "text/plain": [
       "Image(value=b'\\x89PNG\\r\\n\\x1a\\n\\x00\\x00\\x00\\rIHDR\\x00\\x00\\x17p\\x00\\x00\\r\\xac\\x08\\x06\\x00\\x00\\x00E\\x06\\x98\\x97\\…"
      ]
     },
     "metadata": {},
     "output_type": "display_data"
    }
   ],
   "source": [
    "button_2 = widgets.Button(description=\"Visualize\")\n",
    "button_2.on_click(visualize_fn_2)\n",
    "visualize_fn_2(button_2)"
   ]
  }
 ],
 "metadata": {
  "kernelspec": {
   "display_name": "prompt_engineering",
   "language": "python",
   "name": "python3"
  },
  "language_info": {
   "codemirror_mode": {
    "name": "ipython",
    "version": 3
   },
   "file_extension": ".py",
   "mimetype": "text/x-python",
   "name": "python",
   "nbconvert_exporter": "python",
   "pygments_lexer": "ipython3",
   "version": "3.9.15"
  }
 },
 "nbformat": 4,
 "nbformat_minor": 2
}
