{
 "cells": [
  {
   "cell_type": "markdown",
   "metadata": {},
   "source": [
    "# Bias Visualization"
   ]
  },
  {
   "cell_type": "markdown",
   "metadata": {},
   "source": [
    "### Dependencies\n",
    "Note that we use the scikit-learn confusion matrix utility to help calculate some of the fairness metrics. We generate the visualizations using plotly Express."
   ]
  },
  {
   "cell_type": "code",
   "execution_count": 27,
   "metadata": {},
   "outputs": [],
   "source": [
    "%%capture\n",
    "%pip install kaleido numpy pandas plotly scikit-learn tqdm ipywidgets"
   ]
  },
  {
   "cell_type": "code",
   "execution_count": 28,
   "metadata": {},
   "outputs": [],
   "source": [
    "import os\n",
    "from math import sqrt\n",
    "from typing import Any, Dict, List\n",
    "\n",
    "import ipywidgets as widgets\n",
    "import numpy as np\n",
    "import pandas as pd\n",
    "import plotly.express as px\n",
    "from IPython.display import clear_output, display\n",
    "from sklearn.metrics import confusion_matrix as ConfusionMatrix\n",
    "from tqdm.auto import tqdm"
   ]
  },
  {
   "cell_type": "markdown",
   "metadata": {},
   "source": [
    "### Global Constants"
   ]
  },
  {
   "cell_type": "markdown",
   "metadata": {},
   "source": [
    "This notebook will visualize how each of the following variable affects the fairness towards a particular protected group."
   ]
  },
  {
   "cell_type": "code",
   "execution_count": 29,
   "metadata": {},
   "outputs": [],
   "source": [
    "INDEPENDENT_VARIABLES = [\"model\", \"dataset\", \"num_params\"]"
   ]
  },
  {
   "cell_type": "markdown",
   "metadata": {},
   "source": [
    "## Utilities"
   ]
  },
  {
   "cell_type": "markdown",
   "metadata": {},
   "source": [
    "### Plotting Utils"
   ]
  },
  {
   "cell_type": "code",
   "execution_count": 30,
   "metadata": {},
   "outputs": [],
   "source": [
    "def format_metric_name(metric_name: str) -> str:\n",
    "    \"\"\"\n",
    "    Prettify diagram texts by replacing\n",
    "    snake case with regular title case.\n",
    "    \"\"\"\n",
    "    output_words = []\n",
    "    for word in metric_name.split(\"_\"):\n",
    "        word = word.title() if word not in [\"FPR\", \"TPR\"] else word.upper()\n",
    "        output_words.append(word)\n",
    "\n",
    "    return \" \".join(output_words)\n",
    "\n",
    "\n",
    "# Modify the names of the models and the datasets for display purposes\n",
    "def modify_model_name(model_name: str) -> str:\n",
    "    model_name = model_name.replace(\"facebook/\", \"\")\n",
    "    model_name = model_name.replace(\"data/models/\", \"\")\n",
    "    model_name = model_name.replace(\"model-weights/\", \"\")\n",
    "    \n",
    "    if model_name.startswith(\"opt\"):\n",
    "        return model_name.replace(\"opt\", \"OPT\").upper()\n",
    "    elif model_name.startswith(\"roberta\"):\n",
    "        return model_name.replace(\"roberta\", \"RoBERTa\")\n",
    "    elif model_name == \"/llama/7B\":\n",
    "        return \"LLaMA-7B\"\n",
    "    elif model_name == \"/llama/13B\":\n",
    "        return \"LLaMA-13B\"\n",
    "    elif model_name == \"/Llama-2-7b\":\n",
    "        return \"Llama2-7B\"\n",
    "    elif model_name == \"/Llama-2-13b\":\n",
    "        return \"Llama2-13B\"\n",
    "    else:\n",
    "        return model_name\n",
    "\n",
    "\n",
    "def modify_dataset_name(dataset_name: str) -> str:\n",
    "    if \"SST5\" in dataset_name:\n",
    "        return \"SST5 Grouped 9-Shot Prompt\"\n",
    "    elif \"SemEval\" in dataset_name:\n",
    "        return \"SemEval 9-shot Prompt\"\n",
    "    elif \"ZeroShot\" in dataset_name:\n",
    "        return \"Zero-shot Prompt\"\n",
    "    return dataset_name"
   ]
  },
  {
   "cell_type": "markdown",
   "metadata": {},
   "source": [
    "## Getting Predictions Ready"
   ]
  },
  {
   "cell_type": "markdown",
   "metadata": {},
   "source": [
    "### Load Prediction Files\n",
    "Load all prediction `tsv` files from a given folder into a dataframe."
   ]
  },
  {
   "cell_type": "code",
   "execution_count": 31,
   "metadata": {},
   "outputs": [
    {
     "data": {
      "application/vnd.jupyter.widget-view+json": {
       "model_id": "111414e85a0e45b483d6afd8ae19d561",
       "version_major": 2,
       "version_minor": 0
      },
      "text/plain": [
       "  0%|                                                    | 0/45 [00:00<?, ?it/s]"
      ]
     },
     "metadata": {},
     "output_type": "display_data"
    },
    {
     "ename": "KeyboardInterrupt",
     "evalue": "",
     "output_type": "error",
     "traceback": [
      "\u001b[0;31m---------------------------------------------------------------------------\u001b[0m",
      "\u001b[0;31mKeyboardInterrupt\u001b[0m                         Traceback (most recent call last)",
      "Cell \u001b[0;32mIn[31], line 14\u001b[0m\n\u001b[1;32m     12\u001b[0m \u001b[38;5;28;01mfor\u001b[39;00m prediction_tsv_path \u001b[38;5;129;01min\u001b[39;00m tqdm(prediction_tsv_paths, ncols\u001b[38;5;241m=\u001b[39m\u001b[38;5;241m80\u001b[39m):\n\u001b[1;32m     13\u001b[0m     prediction_tsv_filename \u001b[38;5;241m=\u001b[39m os\u001b[38;5;241m.\u001b[39mpath\u001b[38;5;241m.\u001b[39mbasename(prediction_tsv_path)\n\u001b[0;32m---> 14\u001b[0m     dataframe \u001b[38;5;241m=\u001b[39m \u001b[43mpd\u001b[49m\u001b[38;5;241;43m.\u001b[39;49m\u001b[43mread_csv\u001b[49m\u001b[43m(\u001b[49m\u001b[43mprediction_tsv_path\u001b[49m\u001b[43m,\u001b[49m\u001b[43m \u001b[49m\u001b[43mdelimiter\u001b[49m\u001b[38;5;241;43m=\u001b[39;49m\u001b[38;5;124;43m\"\u001b[39;49m\u001b[38;5;130;43;01m\\t\u001b[39;49;00m\u001b[38;5;124;43m\"\u001b[39;49m\u001b[43m)\u001b[49m\n\u001b[1;32m     15\u001b[0m     \u001b[38;5;28;01mdel\u001b[39;00m dataframe[\u001b[38;5;124m\"\u001b[39m\u001b[38;5;124mtext\u001b[39m\u001b[38;5;124m\"\u001b[39m]\n\u001b[1;32m     18\u001b[0m     \u001b[38;5;28;01mif\u001b[39;00m output_table \u001b[38;5;129;01mis\u001b[39;00m \u001b[38;5;28;01mNone\u001b[39;00m:\n",
      "File \u001b[0;32m/usr/local/anaconda3/envs/prompt_engineering/lib/python3.9/site-packages/pandas/util/_decorators.py:211\u001b[0m, in \u001b[0;36mdeprecate_kwarg.<locals>._deprecate_kwarg.<locals>.wrapper\u001b[0;34m(*args, **kwargs)\u001b[0m\n\u001b[1;32m    209\u001b[0m     \u001b[38;5;28;01melse\u001b[39;00m:\n\u001b[1;32m    210\u001b[0m         kwargs[new_arg_name] \u001b[38;5;241m=\u001b[39m new_arg_value\n\u001b[0;32m--> 211\u001b[0m \u001b[38;5;28;01mreturn\u001b[39;00m \u001b[43mfunc\u001b[49m\u001b[43m(\u001b[49m\u001b[38;5;241;43m*\u001b[39;49m\u001b[43margs\u001b[49m\u001b[43m,\u001b[49m\u001b[43m \u001b[49m\u001b[38;5;241;43m*\u001b[39;49m\u001b[38;5;241;43m*\u001b[39;49m\u001b[43mkwargs\u001b[49m\u001b[43m)\u001b[49m\n",
      "File \u001b[0;32m/usr/local/anaconda3/envs/prompt_engineering/lib/python3.9/site-packages/pandas/util/_decorators.py:331\u001b[0m, in \u001b[0;36mdeprecate_nonkeyword_arguments.<locals>.decorate.<locals>.wrapper\u001b[0;34m(*args, **kwargs)\u001b[0m\n\u001b[1;32m    325\u001b[0m \u001b[38;5;28;01mif\u001b[39;00m \u001b[38;5;28mlen\u001b[39m(args) \u001b[38;5;241m>\u001b[39m num_allow_args:\n\u001b[1;32m    326\u001b[0m     warnings\u001b[38;5;241m.\u001b[39mwarn(\n\u001b[1;32m    327\u001b[0m         msg\u001b[38;5;241m.\u001b[39mformat(arguments\u001b[38;5;241m=\u001b[39m_format_argument_list(allow_args)),\n\u001b[1;32m    328\u001b[0m         \u001b[38;5;167;01mFutureWarning\u001b[39;00m,\n\u001b[1;32m    329\u001b[0m         stacklevel\u001b[38;5;241m=\u001b[39mfind_stack_level(),\n\u001b[1;32m    330\u001b[0m     )\n\u001b[0;32m--> 331\u001b[0m \u001b[38;5;28;01mreturn\u001b[39;00m \u001b[43mfunc\u001b[49m\u001b[43m(\u001b[49m\u001b[38;5;241;43m*\u001b[39;49m\u001b[43margs\u001b[49m\u001b[43m,\u001b[49m\u001b[43m \u001b[49m\u001b[38;5;241;43m*\u001b[39;49m\u001b[38;5;241;43m*\u001b[39;49m\u001b[43mkwargs\u001b[49m\u001b[43m)\u001b[49m\n",
      "File \u001b[0;32m/usr/local/anaconda3/envs/prompt_engineering/lib/python3.9/site-packages/pandas/io/parsers/readers.py:950\u001b[0m, in \u001b[0;36mread_csv\u001b[0;34m(filepath_or_buffer, sep, delimiter, header, names, index_col, usecols, squeeze, prefix, mangle_dupe_cols, dtype, engine, converters, true_values, false_values, skipinitialspace, skiprows, skipfooter, nrows, na_values, keep_default_na, na_filter, verbose, skip_blank_lines, parse_dates, infer_datetime_format, keep_date_col, date_parser, dayfirst, cache_dates, iterator, chunksize, compression, thousands, decimal, lineterminator, quotechar, quoting, doublequote, escapechar, comment, encoding, encoding_errors, dialect, error_bad_lines, warn_bad_lines, on_bad_lines, delim_whitespace, low_memory, memory_map, float_precision, storage_options)\u001b[0m\n\u001b[1;32m    935\u001b[0m kwds_defaults \u001b[38;5;241m=\u001b[39m _refine_defaults_read(\n\u001b[1;32m    936\u001b[0m     dialect,\n\u001b[1;32m    937\u001b[0m     delimiter,\n\u001b[0;32m   (...)\u001b[0m\n\u001b[1;32m    946\u001b[0m     defaults\u001b[38;5;241m=\u001b[39m{\u001b[38;5;124m\"\u001b[39m\u001b[38;5;124mdelimiter\u001b[39m\u001b[38;5;124m\"\u001b[39m: \u001b[38;5;124m\"\u001b[39m\u001b[38;5;124m,\u001b[39m\u001b[38;5;124m\"\u001b[39m},\n\u001b[1;32m    947\u001b[0m )\n\u001b[1;32m    948\u001b[0m kwds\u001b[38;5;241m.\u001b[39mupdate(kwds_defaults)\n\u001b[0;32m--> 950\u001b[0m \u001b[38;5;28;01mreturn\u001b[39;00m \u001b[43m_read\u001b[49m\u001b[43m(\u001b[49m\u001b[43mfilepath_or_buffer\u001b[49m\u001b[43m,\u001b[49m\u001b[43m \u001b[49m\u001b[43mkwds\u001b[49m\u001b[43m)\u001b[49m\n",
      "File \u001b[0;32m/usr/local/anaconda3/envs/prompt_engineering/lib/python3.9/site-packages/pandas/io/parsers/readers.py:611\u001b[0m, in \u001b[0;36m_read\u001b[0;34m(filepath_or_buffer, kwds)\u001b[0m\n\u001b[1;32m    608\u001b[0m     \u001b[38;5;28;01mreturn\u001b[39;00m parser\n\u001b[1;32m    610\u001b[0m \u001b[38;5;28;01mwith\u001b[39;00m parser:\n\u001b[0;32m--> 611\u001b[0m     \u001b[38;5;28;01mreturn\u001b[39;00m \u001b[43mparser\u001b[49m\u001b[38;5;241;43m.\u001b[39;49m\u001b[43mread\u001b[49m\u001b[43m(\u001b[49m\u001b[43mnrows\u001b[49m\u001b[43m)\u001b[49m\n",
      "File \u001b[0;32m/usr/local/anaconda3/envs/prompt_engineering/lib/python3.9/site-packages/pandas/io/parsers/readers.py:1778\u001b[0m, in \u001b[0;36mTextFileReader.read\u001b[0;34m(self, nrows)\u001b[0m\n\u001b[1;32m   1771\u001b[0m nrows \u001b[38;5;241m=\u001b[39m validate_integer(\u001b[38;5;124m\"\u001b[39m\u001b[38;5;124mnrows\u001b[39m\u001b[38;5;124m\"\u001b[39m, nrows)\n\u001b[1;32m   1772\u001b[0m \u001b[38;5;28;01mtry\u001b[39;00m:\n\u001b[1;32m   1773\u001b[0m     \u001b[38;5;66;03m# error: \"ParserBase\" has no attribute \"read\"\u001b[39;00m\n\u001b[1;32m   1774\u001b[0m     (\n\u001b[1;32m   1775\u001b[0m         index,\n\u001b[1;32m   1776\u001b[0m         columns,\n\u001b[1;32m   1777\u001b[0m         col_dict,\n\u001b[0;32m-> 1778\u001b[0m     ) \u001b[38;5;241m=\u001b[39m \u001b[38;5;28;43mself\u001b[39;49m\u001b[38;5;241;43m.\u001b[39;49m\u001b[43m_engine\u001b[49m\u001b[38;5;241;43m.\u001b[39;49m\u001b[43mread\u001b[49m\u001b[43m(\u001b[49m\u001b[43m  \u001b[49m\u001b[38;5;66;43;03m# type: ignore[attr-defined]\u001b[39;49;00m\n\u001b[1;32m   1779\u001b[0m \u001b[43m        \u001b[49m\u001b[43mnrows\u001b[49m\n\u001b[1;32m   1780\u001b[0m \u001b[43m    \u001b[49m\u001b[43m)\u001b[49m\n\u001b[1;32m   1781\u001b[0m \u001b[38;5;28;01mexcept\u001b[39;00m \u001b[38;5;167;01mException\u001b[39;00m:\n\u001b[1;32m   1782\u001b[0m     \u001b[38;5;28mself\u001b[39m\u001b[38;5;241m.\u001b[39mclose()\n",
      "File \u001b[0;32m/usr/local/anaconda3/envs/prompt_engineering/lib/python3.9/site-packages/pandas/io/parsers/c_parser_wrapper.py:232\u001b[0m, in \u001b[0;36mCParserWrapper.read\u001b[0;34m(self, nrows)\u001b[0m\n\u001b[1;32m    230\u001b[0m     chunks \u001b[38;5;241m=\u001b[39m \u001b[38;5;28mself\u001b[39m\u001b[38;5;241m.\u001b[39m_reader\u001b[38;5;241m.\u001b[39mread_low_memory(nrows)\n\u001b[1;32m    231\u001b[0m     \u001b[38;5;66;03m# destructive to chunks\u001b[39;00m\n\u001b[0;32m--> 232\u001b[0m     data \u001b[38;5;241m=\u001b[39m \u001b[43m_concatenate_chunks\u001b[49m\u001b[43m(\u001b[49m\u001b[43mchunks\u001b[49m\u001b[43m)\u001b[49m\n\u001b[1;32m    234\u001b[0m \u001b[38;5;28;01melse\u001b[39;00m:\n\u001b[1;32m    235\u001b[0m     data \u001b[38;5;241m=\u001b[39m \u001b[38;5;28mself\u001b[39m\u001b[38;5;241m.\u001b[39m_reader\u001b[38;5;241m.\u001b[39mread(nrows)\n",
      "File \u001b[0;32m/usr/local/anaconda3/envs/prompt_engineering/lib/python3.9/site-packages/pandas/io/parsers/c_parser_wrapper.py:365\u001b[0m, in \u001b[0;36m_concatenate_chunks\u001b[0;34m(chunks)\u001b[0m\n\u001b[1;32m    363\u001b[0m arrs \u001b[38;5;241m=\u001b[39m [chunk\u001b[38;5;241m.\u001b[39mpop(name) \u001b[38;5;28;01mfor\u001b[39;00m chunk \u001b[38;5;129;01min\u001b[39;00m chunks]\n\u001b[1;32m    364\u001b[0m \u001b[38;5;66;03m# Check each arr for consistent types.\u001b[39;00m\n\u001b[0;32m--> 365\u001b[0m dtypes \u001b[38;5;241m=\u001b[39m {a\u001b[38;5;241m.\u001b[39mdtype \u001b[38;5;28;01mfor\u001b[39;00m a \u001b[38;5;129;01min\u001b[39;00m arrs}\n\u001b[1;32m    366\u001b[0m \u001b[38;5;66;03m# TODO: shouldn't we exclude all EA dtypes here?\u001b[39;00m\n\u001b[1;32m    367\u001b[0m numpy_dtypes \u001b[38;5;241m=\u001b[39m {x \u001b[38;5;28;01mfor\u001b[39;00m x \u001b[38;5;129;01min\u001b[39;00m dtypes \u001b[38;5;28;01mif\u001b[39;00m \u001b[38;5;129;01mnot\u001b[39;00m is_categorical_dtype(x)}\n",
      "\u001b[0;31mKeyboardInterrupt\u001b[0m: "
     ]
    }
   ],
   "source": [
    "prediction_folder: str = \"/Users/david/Documents/ResearchPapers/SoftPromptTuningFairness/PurePromptingPredictions/pooled_preds/\"\n",
    "prediction_files: List[str] = os.listdir(prediction_folder)\n",
    "prediction_tsv_paths: List[str] = [\n",
    "    os.path.join(prediction_folder, prediction_file)\n",
    "    for prediction_file in prediction_files\n",
    "    if prediction_file.endswith(\".tsv\") and \"placeholder\" not in prediction_file\n",
    "]\n",
    "\n",
    "output_folder: str = \"stats\"\n",
    "output_table = pd.DataFrame()\n",
    "\n",
    "for prediction_tsv_path in tqdm(prediction_tsv_paths, ncols=80):\n",
    "    prediction_tsv_filename = os.path.basename(prediction_tsv_path)\n",
    "    dataframe = pd.read_csv(prediction_tsv_path, delimiter=\"\\t\")\n",
    "    del dataframe[\"text\"]\n",
    "    \n",
    "\n",
    "    if output_table is None:\n",
    "        output_table = dataframe\n",
    "    else:\n",
    "        assert isinstance(output_table, pd.DataFrame)\n",
    "        output_table = pd.concat([output_table, dataframe])"
   ]
  },
  {
   "cell_type": "markdown",
   "metadata": {},
   "source": [
    "## Calculate Statistics\n",
    "Since there can be multiple examples for each protected group, we apply the `groupby` method to compute aggregated statistics across all the examples of each protected group.\n",
    "\n",
    "Refer to the following function for details on how we implemented the metrics."
   ]
  },
  {
   "cell_type": "markdown",
   "metadata": {},
   "source": [
    "### Function for aggregating statistics\n"
   ]
  },
  {
   "cell_type": "markdown",
   "metadata": {},
   "source": [
    "Below you will find a function that takes in a dataframe. This dataframe is will be automatically generated using the `pd.DataFrame.groupby`. The content of this dataframe is a subset of one particular prediction tsv for a particular protected group (e.g., the \"young\" group for the protected class \"age\"). \n",
    "\n",
    "The function will return a `pd.Series` (like a dictionary) mapping the following fairness metrics to their floating point values:\n",
    "- Accuracy\n",
    "- TPR(Positive)\n",
    "- TPR(Neutral)\n",
    "- TPR(Negative)\n",
    "- FPR(Positive)\n",
    "- FPR(Neutral)\n",
    "- FPR(Negative)\n",
    "\n",
    "Also refer to https://stackoverflow.com/a/50671617 for details on how the TPR and FPR values are computed."
   ]
  },
  {
   "cell_type": "code",
   "execution_count": null,
   "metadata": {},
   "outputs": [],
   "source": [
    "def get_stats(dataframe: pd.DataFrame) -> pd.Series:\n",
    "    \"\"\"\n",
    "    Input: dataframe representing all predictions for a particular\n",
    "    protected group in a particular run.\n",
    "    \"\"\"\n",
    "    output: Dict[str, float] = {}\n",
    "\n",
    "    num_examples = len(dataframe)\n",
    "    num_correct = np.sum(dataframe[\"y_pred\"] == dataframe[\"y_true\"])\n",
    "\n",
    "    output[\"accuracy\"] = num_correct / num_examples\n",
    "\n",
    "    # See https://stackoverflow.com/a/50671617\n",
    "    confusion_matrix = ConfusionMatrix(dataframe[\"y_true\"], dataframe[\"y_pred\"])\n",
    "\n",
    "    FP = confusion_matrix.sum(axis=0) - np.diag(confusion_matrix)\n",
    "    FN = confusion_matrix.sum(axis=1) - np.diag(confusion_matrix)\n",
    "    TP = np.diag(confusion_matrix)\n",
    "    TN = confusion_matrix.sum() - (FP + FN + TP)\n",
    "\n",
    "    FPR = FP / (FP + TN)\n",
    "    FNR = FN / (TP + FN)\n",
    "    TPR = 1 - FNR\n",
    "\n",
    "    for label_index, label in enumerate([\"negative\", \"neutral\", \"positive\"]):\n",
    "        output[label + \"_FPR\"] = FPR[label_index]\n",
    "        output[label + \"_TPR\"] = TPR[label_index]\n",
    "\n",
    "    return pd.Series(output)"
   ]
  },
  {
   "cell_type": "markdown",
   "metadata": {},
   "source": [
    "### Calculating Per-Group Statistics"
   ]
  },
  {
   "cell_type": "code",
   "execution_count": null,
   "metadata": {},
   "outputs": [
    {
     "data": {
      "text/html": [
       "<div>\n",
       "<style scoped>\n",
       "    .dataframe tbody tr th:only-of-type {\n",
       "        vertical-align: middle;\n",
       "    }\n",
       "\n",
       "    .dataframe tbody tr th {\n",
       "        vertical-align: top;\n",
       "    }\n",
       "\n",
       "    .dataframe thead th {\n",
       "        text-align: right;\n",
       "    }\n",
       "</style>\n",
       "<table border=\"1\" class=\"dataframe\">\n",
       "  <thead>\n",
       "    <tr style=\"text-align: right;\">\n",
       "      <th></th>\n",
       "      <th></th>\n",
       "      <th></th>\n",
       "      <th></th>\n",
       "      <th></th>\n",
       "      <th></th>\n",
       "      <th>positive_TPR</th>\n",
       "    </tr>\n",
       "    <tr>\n",
       "      <th>model</th>\n",
       "      <th>dataset</th>\n",
       "      <th>num_params</th>\n",
       "      <th>run_id</th>\n",
       "      <th>category</th>\n",
       "      <th>group</th>\n",
       "      <th></th>\n",
       "    </tr>\n",
       "  </thead>\n",
       "  <tbody>\n",
       "    <tr>\n",
       "      <th rowspan=\"5\" valign=\"top\">LLaMA-7B</th>\n",
       "      <th rowspan=\"5\" valign=\"top\">SST5</th>\n",
       "      <th rowspan=\"5\" valign=\"top\">7.0</th>\n",
       "      <th rowspan=\"5\" valign=\"top\">run_1</th>\n",
       "      <th rowspan=\"5\" valign=\"top\">grouped_race</th>\n",
       "      <th>african_american</th>\n",
       "      <td>0.775000</td>\n",
       "    </tr>\n",
       "    <tr>\n",
       "      <th>american_indian</th>\n",
       "      <td>0.816667</td>\n",
       "    </tr>\n",
       "    <tr>\n",
       "      <th>asian</th>\n",
       "      <td>0.900000</td>\n",
       "    </tr>\n",
       "    <tr>\n",
       "      <th>hispanic</th>\n",
       "      <td>0.925000</td>\n",
       "    </tr>\n",
       "    <tr>\n",
       "      <th>pacific_islander</th>\n",
       "      <td>0.975000</td>\n",
       "    </tr>\n",
       "    <tr>\n",
       "      <th>...</th>\n",
       "      <th>...</th>\n",
       "      <th>...</th>\n",
       "      <th>...</th>\n",
       "      <th>...</th>\n",
       "      <th>...</th>\n",
       "      <td>...</td>\n",
       "    </tr>\n",
       "    <tr>\n",
       "      <th rowspan=\"5\" valign=\"top\">OPT-6.7B</th>\n",
       "      <th rowspan=\"5\" valign=\"top\">ZeroShot</th>\n",
       "      <th rowspan=\"5\" valign=\"top\">6.7</th>\n",
       "      <th rowspan=\"5\" valign=\"top\">run_5</th>\n",
       "      <th rowspan=\"5\" valign=\"top\">grouped_race</th>\n",
       "      <th>american_indian</th>\n",
       "      <td>0.400000</td>\n",
       "    </tr>\n",
       "    <tr>\n",
       "      <th>asian</th>\n",
       "      <td>0.550000</td>\n",
       "    </tr>\n",
       "    <tr>\n",
       "      <th>hispanic</th>\n",
       "      <td>0.375000</td>\n",
       "    </tr>\n",
       "    <tr>\n",
       "      <th>pacific_islander</th>\n",
       "      <td>0.575000</td>\n",
       "    </tr>\n",
       "    <tr>\n",
       "      <th>white</th>\n",
       "      <td>0.150000</td>\n",
       "    </tr>\n",
       "  </tbody>\n",
       "</table>\n",
       "<p>270 rows × 1 columns</p>\n",
       "</div>"
      ],
      "text/plain": [
       "                                                                   positive_TPR\n",
       "model    dataset  num_params run_id category     group                         \n",
       "LLaMA-7B SST5     7.0        run_1  grouped_race african_american      0.775000\n",
       "                                                 american_indian       0.816667\n",
       "                                                 asian                 0.900000\n",
       "                                                 hispanic              0.925000\n",
       "                                                 pacific_islander      0.975000\n",
       "...                                                                         ...\n",
       "OPT-6.7B ZeroShot 6.7        run_5  grouped_race american_indian       0.400000\n",
       "                                                 asian                 0.550000\n",
       "                                                 hispanic              0.375000\n",
       "                                                 pacific_islander      0.575000\n",
       "                                                 white                 0.150000\n",
       "\n",
       "[270 rows x 1 columns]"
      ]
     },
     "execution_count": 13,
     "metadata": {},
     "output_type": "execute_result"
    }
   ],
   "source": [
    "# output_table\n",
    "analyzed_dataframe = output_table.groupby([*INDEPENDENT_VARIABLES, \"run_id\", \"category\", \"group\"]).apply(get_stats)\n",
    "analyzed_dataframe.query('category == \"grouped_race\"')[[\"positive_TPR\"]]"
   ]
  },
  {
   "cell_type": "code",
   "execution_count": null,
   "metadata": {},
   "outputs": [],
   "source": [
    "output_table = analyzed_dataframe.reset_index()\n",
    "os.makedirs(output_folder, exist_ok=True)\n",
    "output_table.to_csv(os.path.join(output_folder, \"aggregated.csv\"))"
   ]
  },
  {
   "cell_type": "markdown",
   "metadata": {},
   "source": [
    "## Calculating Statistics"
   ]
  },
  {
   "cell_type": "markdown",
   "metadata": {},
   "source": [
    "Before we begin, note that some of the protected classes include a large number of groups. You may filter on the protected groups to include in each category. If a category isn't in this dictionary, the visualizations will include all the groups under that category by default."
   ]
  },
  {
   "cell_type": "code",
   "execution_count": null,
   "metadata": {},
   "outputs": [
    {
     "name": "stdout",
     "output_type": "stream",
     "text": [
      "Groups selected: adult, young, old, 4q, 5q, 2q, 3q, 1q, 6q, without, cognitive, physical, hearing, sight, chronic_illness, mobility, mental_health, aab, many-genders, female, non-binary, trans, no-gender, cis, male, hispanic, american_indian, asian, pacific_islander, white, african_american, christianity, islam, judaism, other, homosexual, asexual, heterosexual, bisexual, female, male\n"
     ]
    }
   ],
   "source": [
    "SELECTED_GROUPS = {\n",
    "    \"grouped_religion\": [\"christianity\", \"islam\", \"judaism\"],\n",
    "    \"grouped_disability\": [\n",
    "        \"without\",\n",
    "        \"cognitive\",\n",
    "        \"physical\",\n",
    "        \"hearing\",\n",
    "        \"sight\",\n",
    "        \"chronic_illness\",\n",
    "        \"mobility\",\n",
    "        \"mental_health\",\n",
    "    ],\n",
    "}\n",
    "\n",
    "groups_to_include = []\n",
    "for category in output_table[\"category\"].unique():\n",
    "    groups = SELECTED_GROUPS.get(category)\n",
    "    if groups is None:\n",
    "        groups = list(set(output_table.query(f'category == \"{category}\"')[\"group\"]))\n",
    "\n",
    "    groups_to_include.extend(groups)\n",
    "\n",
    "print(\"Groups selected:\", \", \".join(groups_to_include))\n",
    "output_table = output_table.query(\"group == @groups_to_include\")"
   ]
  },
  {
   "cell_type": "markdown",
   "metadata": {},
   "source": [
    "### \"Gap\": How each group deviates from the category mean\n",
    "Below, we will calculate how far each group deviates from the mean of that category. For example, how far does the accuracy on examples mentioning the \"young\" group deviate from the mean of all examples of the \"age\" category?\n",
    "\n",
    "If there are more than one runs for each model, we would calculate gap metrics for each run separately. \n",
    "\n",
    "We use a for loop to add the following metrics of interest to our list:\n",
    "- Accuracy\n",
    "- False Positive Rates\n",
    "    - FPR(\"Negative\")\n",
    "    - FPR(\"Neutral\")\n",
    "    - FPR(\"Positive\")\n",
    "- True Positive Rates\n",
    "    - TPR(\"Negative\")\n",
    "    - TPR(\"Neutral\")\n",
    "    - TPR(\"Positive\")"
   ]
  },
  {
   "cell_type": "code",
   "execution_count": null,
   "metadata": {},
   "outputs": [
    {
     "name": "stdout",
     "output_type": "stream",
     "text": [
      "['accuracy_gap', 'negative_FPR_gap', 'negative_TPR_gap', 'neutral_FPR_gap', 'neutral_TPR_gap', 'positive_FPR_gap', 'positive_TPR_gap']\n"
     ]
    }
   ],
   "source": [
    "metrics = [\"accuracy\"]\n",
    "for label in [\"negative\", \"neutral\", \"positive\"]:\n",
    "    metrics.append(label + \"_FPR\")\n",
    "    metrics.append(label + \"_TPR\")\n",
    "\n",
    "gap_metrics = []\n",
    "for metric in metrics:\n",
    "    gap_metrics.append(f\"{metric}_gap\")\n",
    "\n",
    "print(gap_metrics)"
   ]
  },
  {
   "cell_type": "markdown",
   "metadata": {},
   "source": [
    "### Confidence Interval Calculations"
   ]
  },
  {
   "cell_type": "markdown",
   "metadata": {},
   "source": [
    "In the previous step, we've found the gaps for each (metric, category, group, model, run/seed). If we have more than one runs/seeds for each model, we can aggregate the results to find a confidence interval for each gap variable.\n",
    "\n",
    "To do so, we will aggregate the previous table (metric, category, group, model, run/seed) along the run/seed axis. The result will be a table with indices (metric, category, group, model)."
   ]
  },
  {
   "cell_type": "code",
   "execution_count": null,
   "metadata": {},
   "outputs": [],
   "source": [
    "# Create a (metric, group) placeholder table for storing the output values.\n",
    "# Unlike in the previous step, \"run_id\" isn't part of groupby,\n",
    "# and this axis will be squeezed in the result.\n",
    "stats_table = (\n",
    "    output_table[[*INDEPENDENT_VARIABLES, \"category\", \"group\", \"accuracy\"]]\n",
    "    .groupby([*INDEPENDENT_VARIABLES, \"category\", \"group\"])\n",
    "    .agg([\"mean\"])\n",
    ")"
   ]
  },
  {
   "cell_type": "code",
   "execution_count": null,
   "metadata": {},
   "outputs": [],
   "source": [
    "# Calculate gap for each metric and\n",
    "# save the results in a column named f\"{metrics}_gap\".\n",
    "for metric, gap_metric in zip(metrics, gap_metrics):\n",
    "    # Calculate mean for each metric, group, and run/seed.\n",
    "    group_by = [*INDEPENDENT_VARIABLES, \"category\", \"run_id\"]\n",
    "    grouped = output_table[[*INDEPENDENT_VARIABLES, \"category\", \"run_id\", metric]].groupby(group_by)\n",
    "    group_mean = grouped.transform(\"mean\")\n",
    "\n",
    "    # Broadcast the mean values across the table\n",
    "    # to find the gap for each entry.\n",
    "    normalized_values = output_table[metric] - group_mean[metric]\n",
    "    output_table[gap_metric] = normalized_values\n",
    "\n",
    "    # See https://stackoverflow.com/a/53522680\n",
    "    # Calculate mean and stdev for each (metric, category, group, model).\n",
    "    stats = (\n",
    "        output_table[[*INDEPENDENT_VARIABLES, \"category\", \"group\", gap_metric]]\n",
    "        .groupby([*INDEPENDENT_VARIABLES, \"category\", \"group\"])\n",
    "        .agg([\"mean\", \"count\", \"std\"])\n",
    "    )\n",
    "\n",
    "    mean_values = []\n",
    "    ci_width = []\n",
    "    lower_values = []\n",
    "    upper_values = []\n",
    "    hypothesis_selected = []\n",
    "    z_score = 1.96\n",
    "\n",
    "    # Calculate 95% Confidence interval for each\n",
    "    # (metric, category, group, model).\n",
    "    for index in stats.index:\n",
    "        mean, n, stdev = stats.loc[index]  # type: ignore\n",
    "        lower = mean - z_score * stdev / sqrt(n)\n",
    "        upper = mean + z_score * stdev / sqrt(n)\n",
    "\n",
    "        mean_values.append(mean)\n",
    "        ci_width.append(z_score * stdev / sqrt(n))\n",
    "        lower_values.append(lower)\n",
    "        upper_values.append(upper)\n",
    "\n",
    "        if lower > 0:\n",
    "            hypothesis_selected.append(1)\n",
    "        elif upper < 0:\n",
    "            hypothesis_selected.append(-1)\n",
    "        else:\n",
    "            hypothesis_selected.append(0)\n",
    "\n",
    "    stats_table[gap_metric] = mean_values\n",
    "    stats_table[gap_metric + \"_width\"] = ci_width\n",
    "    stats_table[gap_metric + \"_lower\"] = lower_values\n",
    "    stats_table[gap_metric + \"_upper\"] = upper_values\n",
    "\n",
    "stats_table = stats_table.reset_index()"
   ]
  },
  {
   "cell_type": "code",
   "execution_count": null,
   "metadata": {},
   "outputs": [],
   "source": [
    "stats_table[\"model\"] = stats_table[\"model\"].apply(modify_model_name)\n",
    "stats_table[\"dataset\"] = stats_table[\"dataset\"].apply(modify_dataset_name)"
   ]
  },
  {
   "cell_type": "markdown",
   "metadata": {},
   "source": [
    "## Plotting"
   ]
  },
  {
   "cell_type": "markdown",
   "metadata": {},
   "source": [
    "### Compare between Groups of each category \n",
    "E.g. all groups in the \"age\" category"
   ]
  },
  {
   "cell_type": "code",
   "execution_count": null,
   "metadata": {},
   "outputs": [],
   "source": [
    "datasets = [\"(all)\", *stats_table[\"dataset\"].unique()]\n",
    "models = [\"(all)\", *(stats_table[\"model\"].unique())]\n",
    "categories = stats_table[\"category\"].unique()"
   ]
  },
  {
   "cell_type": "markdown",
   "metadata": {},
   "source": [
    "##### Interactive Visualization Utilities"
   ]
  },
  {
   "cell_type": "code",
   "execution_count": null,
   "metadata": {},
   "outputs": [],
   "source": [
    "model_selector = widgets.Dropdown(options=models, value=models[0], description=\"Model:\")\n",
    "category_selector = widgets.Dropdown(options=categories, value=categories[0], description=\"Category:\")\n",
    "metric_selector = widgets.Dropdown(options=metrics, value=metrics[0], description=\"Metric:\")\n",
    "dataset_selector = widgets.Dropdown(options=datasets, value=datasets[0], description=\"Dataset:\")"
   ]
  },
  {
   "cell_type": "code",
   "execution_count": null,
   "metadata": {},
   "outputs": [],
   "source": [
    "def visualize_fn(button: Any) -> None:\n",
    "    \"\"\"\n",
    "    Function to be called when the button is pressed.\n",
    "    This function clears previous output and any widget\n",
    "    that has already been rendered. To add these widgets\n",
    "    back (including the button) the \"button\" parameter\n",
    "    needs to be supplied from the button action.\n",
    "    \"\"\"\n",
    "    clear_output()\n",
    "\n",
    "    display(model_selector)\n",
    "    display(category_selector)\n",
    "    display(metric_selector)\n",
    "    display(dataset_selector)\n",
    "    display(button)\n",
    "\n",
    "    model = model_selector.value\n",
    "    category: str = category_selector.value  # type: ignore\n",
    "    metric: str = metric_selector.value  # type: ignore\n",
    "    dataset: str = dataset_selector.value  # type: ignore\n",
    "\n",
    "    metric += \"_gap\"\n",
    "\n",
    "    if model == \"(all)\" and dataset == \"(all)\":\n",
    "        filtered_table = stats_table[(stats_table[\"category\"] == category)]\n",
    "    elif model == \"(all)\":\n",
    "        filtered_table = stats_table[(stats_table[\"category\"] == category) & (stats_table[\"dataset\"] == dataset)]\n",
    "    elif dataset == \"(all)\":\n",
    "        filtered_table = stats_table[(stats_table[\"category\"] == category) & (stats_table[\"model\"] == model)]\n",
    "    else:\n",
    "        filtered_table = stats_table[\n",
    "            (stats_table[\"category\"] == category)\n",
    "            & (stats_table[\"model\"] == model)\n",
    "            & (stats_table[\"dataset\"] == dataset)\n",
    "        ]\n",
    "\n",
    "    if len(filtered_table) == 0:\n",
    "        print(\"None of the runs in the table matched the selections.\")\n",
    "        return\n",
    "\n",
    "    # Removing the \"grouped\" from grouped_{category_name}\n",
    "    category_name = category.split(\"_\")[-1]\n",
    "    title = f\"Gap for {category_name.title()}<br>{dataset}\"\n",
    "\n",
    "    # Generate scatterplot with confidence interval.\n",
    "    fig = px.scatter(\n",
    "        filtered_table,\n",
    "        x=\"group\",\n",
    "        facet_col=\"group\",\n",
    "        y=metric,\n",
    "        color=\"model\",\n",
    "        error_y=metric + \"_width\",\n",
    "        labels={\n",
    "            \"group\": \"Protected Group\",\n",
    "            metric: format_metric_name(metric),\n",
    "            \"model\": \"LM\",\n",
    "        },\n",
    "        category_orders={\n",
    "            \"model\": [\"OPT-125M\", \"OPT-350M\", \"OPT-1.3B\", \"OPT-2.7B\", \"OPT-6.7B\", \"OPT-13B\", \"LLaMA-7B\", \"LLaMA-13B\"]\n",
    "        },\n",
    "        title=title,\n",
    "        height=900,\n",
    "        width=1200,\n",
    "    )\n",
    "\n",
    "    # Hide redundant x axis labels.\n",
    "    fig.update_xaxes(\n",
    "        matches=None, tickangle=-35, title_font_family=\"Helvetica\", tickfont_family=\"Helvetica\", tickfont_size=28\n",
    "    )\n",
    "    fig.update_yaxes(title_font_family=\"Helvetica\", tickfont_family=\"Helvetica\", title_font_size=36)\n",
    "    fig.for_each_xaxis(lambda x: x.update(title=\"\"))\n",
    "    fig.for_each_annotation(lambda a: a.update(text=\"\"))\n",
    "    fig.update_traces(\n",
    "        marker=dict(\n",
    "            size=14,\n",
    "        ),\n",
    "        error_y=dict(thickness=5),\n",
    "    )\n",
    "\n",
    "    fig = fig.update_layout(legend=dict(title_font_family=\"Helvetica\", font=dict(size=28)))\n",
    "\n",
    "    fig = fig.update_layout(\n",
    "        scattermode=\"group\",\n",
    "        font_color=\"black\",\n",
    "        title_font_family=\"Helvetica\",\n",
    "        font_size=24,\n",
    "        title_x=0.47,\n",
    "    )\n",
    "\n",
    "    plot_output_path = \"plot.png\"\n",
    "    fig.write_image(plot_output_path, scale=3)\n",
    "    with open(plot_output_path, \"rb\") as img_file:\n",
    "        image_widget = widgets.Image(value=img_file.read(), format=\"png\", width=700, height=1200)\n",
    "        display(image_widget)"
   ]
  },
  {
   "cell_type": "markdown",
   "metadata": {},
   "source": [
    "##### Interative Visualization"
   ]
  },
  {
   "cell_type": "code",
   "execution_count": null,
   "metadata": {},
   "outputs": [
    {
     "data": {
      "application/vnd.jupyter.widget-view+json": {
       "model_id": "ee44be0ad2d94a1f99f1a2967ad3127b",
       "version_major": 2,
       "version_minor": 0
      },
      "text/plain": [
       "Dropdown(description='Model:', options=('(all)', 'LLaMA-7B', 'Llama2-7B', 'OPT-6.7B'), value='(all)')"
      ]
     },
     "metadata": {},
     "output_type": "display_data"
    },
    {
     "data": {
      "application/vnd.jupyter.widget-view+json": {
       "model_id": "8a5dca86796e48bfa1888ca33c6132c2",
       "version_major": 2,
       "version_minor": 0
      },
      "text/plain": [
       "Dropdown(description='Category:', index=2, options=('grouped_age', 'grouped_country_by_gdp_ppp_quantile', 'gro…"
      ]
     },
     "metadata": {},
     "output_type": "display_data"
    },
    {
     "data": {
      "application/vnd.jupyter.widget-view+json": {
       "model_id": "20310da6e8fa492e856f2efc8cd3c841",
       "version_major": 2,
       "version_minor": 0
      },
      "text/plain": [
       "Dropdown(description='Metric:', index=5, options=('accuracy', 'negative_FPR', 'negative_TPR', 'neutral_FPR', '…"
      ]
     },
     "metadata": {},
     "output_type": "display_data"
    },
    {
     "data": {
      "application/vnd.jupyter.widget-view+json": {
       "model_id": "16a07ecd28634fe39a843a0419bc76e4",
       "version_major": 2,
       "version_minor": 0
      },
      "text/plain": [
       "Dropdown(description='Dataset:', index=3, options=('(all)', 'SST5', 'SemEval', 'ZeroShot'), value='ZeroShot')"
      ]
     },
     "metadata": {},
     "output_type": "display_data"
    },
    {
     "data": {
      "application/vnd.jupyter.widget-view+json": {
       "model_id": "a091d3e38b774f46886869cf11d4fd97",
       "version_major": 2,
       "version_minor": 0
      },
      "text/plain": [
       "Button(description='Visualize', style=ButtonStyle())"
      ]
     },
     "metadata": {},
     "output_type": "display_data"
    },
    {
     "data": {
      "application/vnd.jupyter.widget-view+json": {
       "model_id": "d84c931ace4340f1ac3c8e87c6117c40",
       "version_major": 2,
       "version_minor": 0
      },
      "text/plain": [
       "Image(value=b'\\x89PNG\\r\\n\\x1a\\n\\x00\\x00\\x00\\rIHDR\\x00\\x00\\x0e\\x10\\x00\\x00\\n\\x8c\\x08\\x06\\x00\\x00\\x00\\x83Q]\\x11\\…"
      ]
     },
     "metadata": {},
     "output_type": "display_data"
    }
   ],
   "source": [
    "button = widgets.Button(description=\"Visualize\")\n",
    "button.on_click(visualize_fn)\n",
    "visualize_fn(button)"
   ]
  },
  {
   "cell_type": "markdown",
   "metadata": {},
   "source": [
    "### Compare between models and datasets on the same protected group \n",
    "E.g. \"young\" people of the \"age\" category.\n"
   ]
  },
  {
   "cell_type": "markdown",
   "metadata": {},
   "source": [
    "##### Interative Visualization Utilities"
   ]
  },
  {
   "cell_type": "code",
   "execution_count": null,
   "metadata": {},
   "outputs": [],
   "source": [
    "unique_groups = stats_table[\"group\"].unique()\n",
    "model_selector_2 = widgets.Dropdown(options=models, value=models[0], description=\"Model:\")\n",
    "group_selector_2 = widgets.Dropdown(options=unique_groups, value=unique_groups[0], description=\"Group:\")\n",
    "metric_selector_2 = widgets.Dropdown(options=metrics, value=metrics[0], description=\"Metric:\")"
   ]
  },
  {
   "cell_type": "code",
   "execution_count": null,
   "metadata": {},
   "outputs": [],
   "source": [
    "def visualize_fn_2(button: Any) -> None:\n",
    "    clear_output()\n",
    "    display(model_selector_2)\n",
    "    display(group_selector_2)\n",
    "    display(metric_selector_2)\n",
    "    display(button)\n",
    "\n",
    "    model = model_selector_2.value\n",
    "    group: str = group_selector_2.value  # type: ignore\n",
    "    metric: str = metric_selector_2.value  # type: ignore\n",
    "\n",
    "    gap_metric = metric + \"_gap\"\n",
    "\n",
    "    if model == \"(all)\":\n",
    "        filtered_table = stats_table[(stats_table[\"dataset\"] != \"\")]\n",
    "    else:\n",
    "        filtered_table = stats_table[(stats_table[\"model\"] == model) & (stats_table[\"dataset\"] != \"\")]\n",
    "\n",
    "    group_filtered_table = filtered_table[filtered_table[\"group\"] == group]\n",
    "\n",
    "    if len(group_filtered_table) == 0:\n",
    "        print(\"None of the runs in the table matched the selections.\")\n",
    "        return\n",
    "\n",
    "    title = f\"Gap for {group.title()} \"\n",
    "\n",
    "    fig = px.scatter(\n",
    "        group_filtered_table,\n",
    "        x=\"dataset\",\n",
    "        facet_col=\"dataset\",\n",
    "        y=gap_metric,\n",
    "        color=\"model\",\n",
    "        error_y=gap_metric + \"_width\",\n",
    "        labels={\n",
    "            \"group\": \"Protected Group\",\n",
    "            gap_metric: format_metric_name(gap_metric),\n",
    "            \"model\": \"LM\",\n",
    "            **{dataset: format_metric_name(dataset) for dataset in filtered_table[\"dataset\"].unique()},\n",
    "        },\n",
    "        title=title,\n",
    "        height=700,\n",
    "        width=1200,\n",
    "    )\n",
    "\n",
    "    # Hide redundant x axis labels.\n",
    "    fig.update_xaxes(\n",
    "        matches=None, tickangle=-35, title_font_family=\"Helvetica\", tickfont_family=\"Helvetica\", tickfont_size=28\n",
    "    )\n",
    "    fig.update_yaxes(title_font_family=\"Helvetica\", tickfont_family=\"Helvetica\", title_font_size=36)\n",
    "    fig.for_each_xaxis(lambda x: x.update(title=\"\"))\n",
    "    fig.for_each_annotation(lambda a: a.update(text=\"\"))\n",
    "    fig.update_traces(\n",
    "        marker=dict(\n",
    "            size=14,\n",
    "        ),\n",
    "        error_y=dict(thickness=5),\n",
    "    )\n",
    "\n",
    "    fig = fig.update_layout(legend=dict(title_font_family=\"Helvetica\", font=dict(size=28)))\n",
    "\n",
    "    fig = fig.update_layout(\n",
    "        scattermode=\"group\",\n",
    "        font_color=\"black\",\n",
    "        title_font_family=\"Helvetica\",\n",
    "        font_size=24,\n",
    "        title_x=0.47,\n",
    "    )\n",
    "\n",
    "    plot_output_path = \"plot.png\"\n",
    "    fig.write_image(plot_output_path, scale=5)\n",
    "    with open(plot_output_path, \"rb\") as img_file:\n",
    "        image_widget = widgets.Image(value=img_file.read(), format=\"png\", width=700, height=1200)\n",
    "        display(image_widget)"
   ]
  },
  {
   "cell_type": "markdown",
   "metadata": {},
   "source": [
    "##### Interative Visualization"
   ]
  },
  {
   "cell_type": "code",
   "execution_count": null,
   "metadata": {},
   "outputs": [
    {
     "data": {
      "application/vnd.jupyter.widget-view+json": {
       "model_id": "6d90ad5f565748fb8fad64cbcab59c30",
       "version_major": 2,
       "version_minor": 0
      },
      "text/plain": [
       "Dropdown(description='Model:', options=('(all)', 'LLaMA-7B', 'Llama2-7B', 'OPT-6.7B'), value='(all)')"
      ]
     },
     "metadata": {},
     "output_type": "display_data"
    },
    {
     "data": {
      "application/vnd.jupyter.widget-view+json": {
       "model_id": "e631542b24a244c781ff40020d4f5193",
       "version_major": 2,
       "version_minor": 0
      },
      "text/plain": [
       "Dropdown(description='Group:', options=('adult', 'old', 'young', '1q', '2q', '3q', '4q', '5q', '6q', 'chronic_…"
      ]
     },
     "metadata": {},
     "output_type": "display_data"
    },
    {
     "data": {
      "application/vnd.jupyter.widget-view+json": {
       "model_id": "5669e926c7b34bb28df44b532433e14e",
       "version_major": 2,
       "version_minor": 0
      },
      "text/plain": [
       "Dropdown(description='Metric:', options=('accuracy', 'negative_FPR', 'negative_TPR', 'neutral_FPR', 'neutral_T…"
      ]
     },
     "metadata": {},
     "output_type": "display_data"
    },
    {
     "data": {
      "application/vnd.jupyter.widget-view+json": {
       "model_id": "762f525b2c614679b7c1b8fa32add12c",
       "version_major": 2,
       "version_minor": 0
      },
      "text/plain": [
       "Button(description='Visualize', style=ButtonStyle())"
      ]
     },
     "metadata": {},
     "output_type": "display_data"
    },
    {
     "data": {
      "application/vnd.jupyter.widget-view+json": {
       "model_id": "c7daf3ce79ff4838bfed347ddabbae91",
       "version_major": 2,
       "version_minor": 0
      },
      "text/plain": [
       "Image(value=b'\\x89PNG\\r\\n\\x1a\\n\\x00\\x00\\x00\\rIHDR\\x00\\x00\\x17p\\x00\\x00\\r\\xac\\x08\\x06\\x00\\x00\\x00E\\x06\\x98\\x97\\…"
      ]
     },
     "metadata": {},
     "output_type": "display_data"
    }
   ],
   "source": [
    "button_2 = widgets.Button(description=\"Visualize\")\n",
    "button_2.on_click(visualize_fn_2)\n",
    "visualize_fn_2(button_2)"
   ]
  }
 ],
 "metadata": {
  "kernelspec": {
   "display_name": "prompt_engineering",
   "language": "python",
   "name": "python3"
  },
  "language_info": {
   "codemirror_mode": {
    "name": "ipython",
    "version": 3
   },
   "file_extension": ".py",
   "mimetype": "text/x-python",
   "name": "python",
   "nbconvert_exporter": "python",
   "pygments_lexer": "ipython3",
   "version": "3.9.15"
  }
 },
 "nbformat": 4,
 "nbformat_minor": 2
}
